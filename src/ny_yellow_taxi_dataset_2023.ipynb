{
 "cells": [
  {
   "cell_type": "code",
   "execution_count": 1,
   "id": "0cb82374-3b6d-4720-80c1-1efc0221fef9",
   "metadata": {},
   "outputs": [],
   "source": [
    "from pyspark.sql import SparkSession\n",
    "\n",
    "spark = (SparkSession\n",
    "         .builder\n",
    "         .appName(\"Yellow Taxi Data Analysis\")\n",
    "         .getOrCreate())\n",
    "from functools import reduce\n",
    "from pyspark.sql import DataFrame, Window\n",
    "from pyspark.sql.functions import avg, sum, max, min, col, mean, stddev, count, format_number, dense_rank, round\n",
    "from pyspark.sql.functions import month, day, hour, to_timestamp, date_format\n",
    "import matplotlib.pyplot as plt\n",
    "import seaborn as sns\n",
    "import numpy as np\n",
    "import pandas as pd\n"
   ]
  },
  {
   "cell_type": "markdown",
   "id": "6403082b-e434-4394-8ddc-60275c0bf418",
   "metadata": {},
   "source": [
    "### Creating DataFrame containing taxi data for each month in the year 2023."
   ]
  },
  {
   "cell_type": "code",
   "execution_count": 2,
   "id": "a45d03e5-8fec-485e-808f-42bd098c8503",
   "metadata": {
    "scrolled": true
   },
   "outputs": [],
   "source": [
    "dataset_paths = ['datasets/new_york_taxi/yellow_tripdata_2023-01.parquet',\n",
    "                'datasets/new_york_taxi/yellow_tripdata_2023-02.parquet',\n",
    "                 'datasets/new_york_taxi/yellow_tripdata_2023-03.parquet',\n",
    "                 'datasets/new_york_taxi/yellow_tripdata_2023-04.parquet',\n",
    "                 'datasets/new_york_taxi/yellow_tripdata_2023-05.parquet',\n",
    "                 'datasets/new_york_taxi/yellow_tripdata_2023-06.parquet',\n",
    "                 'datasets/new_york_taxi/yellow_tripdata_2023-07.parquet',\n",
    "                 'datasets/new_york_taxi/yellow_tripdata_2023-08.parquet',\n",
    "                 'datasets/new_york_taxi/yellow_tripdata_2023-09.parquet',\n",
    "                'datasets/new_york_taxi/yellow_tripdata_2023-10.parquet']\n",
    "taxi_data = []\n",
    "for path in dataset_paths:\n",
    "    taxi_data.append(spark.read.parquet(path))\n"
   ]
  },
  {
   "cell_type": "markdown",
   "id": "7d5762d3-fb57-415c-a315-a435a0a53927",
   "metadata": {},
   "source": [
    "### Merging DataFrames containing taxi data of each month in the year 2023."
   ]
  },
  {
   "cell_type": "code",
   "execution_count": 3,
   "id": "85eaed27-843e-471c-9de5-b4ad1f0b4cc9",
   "metadata": {},
   "outputs": [
    {
     "name": "stdout",
     "output_type": "stream",
     "text": [
      "+--------+--------------------+---------------------+---------------+-------------+----------+------------------+------------+------------+------------+-----------+-----+-------+----------+------------+---------------------+------------+--------------------+-----------+\n",
      "|VendorID|tpep_pickup_datetime|tpep_dropoff_datetime|passenger_count|trip_distance|RatecodeID|store_and_fwd_flag|PULocationID|DOLocationID|payment_type|fare_amount|extra|mta_tax|tip_amount|tolls_amount|improvement_surcharge|total_amount|congestion_surcharge|airport_fee|\n",
      "+--------+--------------------+---------------------+---------------+-------------+----------+------------------+------------+------------+------------+-----------+-----+-------+----------+------------+---------------------+------------+--------------------+-----------+\n",
      "|       2| 2023-01-01 00:32:10|  2023-01-01 00:40:36|            1.0|         0.97|       1.0|                 N|         161|         141|           2|        9.3|  1.0|    0.5|       0.0|         0.0|                  1.0|        14.3|                 2.5|        0.0|\n",
      "|       2| 2023-01-01 00:55:08|  2023-01-01 01:01:27|            1.0|          1.1|       1.0|                 N|          43|         237|           1|        7.9|  1.0|    0.5|       4.0|         0.0|                  1.0|        16.9|                 2.5|        0.0|\n",
      "+--------+--------------------+---------------------+---------------+-------------+----------+------------------+------------+------------+------------+-----------+-----+-------+----------+------------+---------------------+------------+--------------------+-----------+\n",
      "only showing top 2 rows\n",
      "\n"
     ]
    }
   ],
   "source": [
    "taxi_data_complete = reduce(DataFrame.unionAll, taxi_data)\n",
    "taxi_data_complete.show(2)"
   ]
  },
  {
   "cell_type": "markdown",
   "id": "441bda1e-efca-4568-8961-9ea1fab4367b",
   "metadata": {},
   "source": [
    "### Schema of the data"
   ]
  },
  {
   "cell_type": "code",
   "execution_count": 4,
   "id": "01ad0898-68aa-431f-8aea-def819f6975d",
   "metadata": {},
   "outputs": [
    {
     "name": "stdout",
     "output_type": "stream",
     "text": [
      "root\n",
      " |-- VendorID: long (nullable = true)\n",
      " |-- tpep_pickup_datetime: timestamp_ntz (nullable = true)\n",
      " |-- tpep_dropoff_datetime: timestamp_ntz (nullable = true)\n",
      " |-- passenger_count: double (nullable = true)\n",
      " |-- trip_distance: double (nullable = true)\n",
      " |-- RatecodeID: double (nullable = true)\n",
      " |-- store_and_fwd_flag: string (nullable = true)\n",
      " |-- PULocationID: long (nullable = true)\n",
      " |-- DOLocationID: long (nullable = true)\n",
      " |-- payment_type: long (nullable = true)\n",
      " |-- fare_amount: double (nullable = true)\n",
      " |-- extra: double (nullable = true)\n",
      " |-- mta_tax: double (nullable = true)\n",
      " |-- tip_amount: double (nullable = true)\n",
      " |-- tolls_amount: double (nullable = true)\n",
      " |-- improvement_surcharge: double (nullable = true)\n",
      " |-- total_amount: double (nullable = true)\n",
      " |-- congestion_surcharge: double (nullable = true)\n",
      " |-- airport_fee: double (nullable = true)\n",
      "\n"
     ]
    }
   ],
   "source": [
    "taxi_data_complete.printSchema()"
   ]
  },
  {
   "cell_type": "markdown",
   "id": "25c6e445-d359-4769-9311-51d7e053808d",
   "metadata": {},
   "source": [
    "### Preparing the data for analysis\n",
    "\n",
    "#### Cleaning the data by dropping the null values and some of the rows\n"
   ]
  },
  {
   "cell_type": "code",
   "execution_count": 5,
   "id": "9a4ff0e6-ae14-428c-940d-4aee5cabbd5d",
   "metadata": {},
   "outputs": [],
   "source": [
    "taxi_data_complete.dropna()\n",
    "clean_taxi_data = taxi_data_complete.drop(\"store_and_fwd_flag\",\"extra\",\"mta_tax\",\"tolls_amount\",\"improvement_surcharge\")\n"
   ]
  },
  {
   "cell_type": "markdown",
   "id": "8828c8db-a4e4-4830-9538-6aca278d2929",
   "metadata": {},
   "source": [
    "#### Showing the top row of the data"
   ]
  },
  {
   "cell_type": "code",
   "execution_count": 6,
   "id": "dbf578c2-de6e-4570-823e-5e2fac9100e1",
   "metadata": {},
   "outputs": [
    {
     "data": {
      "text/plain": [
       "Row(VendorID=2, tpep_pickup_datetime=datetime.datetime(2023, 1, 1, 0, 32, 10), tpep_dropoff_datetime=datetime.datetime(2023, 1, 1, 0, 40, 36), passenger_count=1.0, trip_distance=0.97, RatecodeID=1.0, PULocationID=161, DOLocationID=141, payment_type=2, fare_amount=9.3, tip_amount=0.0, total_amount=14.3, congestion_surcharge=2.5, airport_fee=0.0)"
      ]
     },
     "execution_count": 6,
     "metadata": {},
     "output_type": "execute_result"
    }
   ],
   "source": [
    "clean_taxi_data.head()"
   ]
  },
  {
   "cell_type": "markdown",
   "id": "1dd3d427-8470-471a-a1b3-3e1b9bbe110f",
   "metadata": {},
   "source": [
    "#### Create new columns of 'month', 'week', 'day' & 'hour' from the date-time data"
   ]
  },
  {
   "cell_type": "code",
   "execution_count": 7,
   "id": "26f812b0-dfb6-4dc5-a575-464f83dbced1",
   "metadata": {},
   "outputs": [],
   "source": [
    "clean_taxi_data = clean_taxi_data.withColumn(\"pickup_month\", month(\"tpep_pickup_datetime\"))\\\n",
    "                                 .withColumn(\"dropoff_month\", month(\"tpep_dropoff_datetime\"))\\\n",
    "                                 .withColumn(\"pickup_day\", day(\"tpep_pickup_datetime\"))\\\n",
    "                                 .withColumn(\"dropoff_day\", day(\"tpep_dropoff_datetime\"))\\\n",
    "                                 .withColumn(\"pickup_hour\", hour(\"tpep_pickup_datetime\"))\\\n",
    "                                 .withColumn(\"dropoff_hour\", hour(\"tpep_dropoff_datetime\"))\n",
    "spark.conf.set(\"spark.sql.legacy.timeParserPolicy\", \"LEGACY\")\n",
    "\n",
    "clean_taxi_data = clean_taxi_data.withColumn(\"tpep_pickup_datetime\",to_timestamp(col(\"tpep_pickup_datetime\")))\\\n",
    "                                 .withColumn(\"week_day_full\", date_format(col(\"tpep_pickup_datetime\"), \"EEEE\"))\\\n",
    "                                 .withColumn(\"week_of_month\", date_format(col(\"tpep_pickup_datetime\"), \"W\"))"
   ]
  },
  {
   "cell_type": "markdown",
   "id": "8a649183-2b6d-45ce-9294-606889a9717e",
   "metadata": {},
   "source": [
    "### Analysing the clean taxi data\n",
    "\n",
    "#### 1) Calculating total Revenue and trips for the year\n",
    "\n",
    "##### Total revenue for the year\n"
   ]
  },
  {
   "cell_type": "code",
   "execution_count": 8,
   "id": "cf9b2a73-4411-407d-b789-5065314797bf",
   "metadata": {},
   "outputs": [
    {
     "name": "stdout",
     "output_type": "stream",
     "text": [
      "+----------------+\n",
      "|total_revenue($)|\n",
      "+----------------+\n",
      "|     898,175,166|\n",
      "+----------------+\n",
      "\n"
     ]
    }
   ],
   "source": [
    "total_revenue = clean_taxi_data.agg(sum(\"total_amount\").alias(\"total_revenue\"))\n",
    "total_revenue = total_revenue.select(format_number(\"total_revenue\", 0).alias(\"total_revenue($)\"))\n",
    "total_revenue.show()\n"
   ]
  },
  {
   "cell_type": "markdown",
   "id": "9460382f-1a77-4d59-8fe5-29f9dc4b0025",
   "metadata": {},
   "source": [
    "##### Total trips carried out for the year\n"
   ]
  },
  {
   "cell_type": "code",
   "execution_count": 9,
   "id": "15f6642a-4a70-448f-a900-7b8e10fdd04c",
   "metadata": {},
   "outputs": [
    {
     "name": "stdout",
     "output_type": "stream",
     "text": [
      "+-----------+\n",
      "|total_trips|\n",
      "+-----------+\n",
      "| 31,593,944|\n",
      "+-----------+\n",
      "\n"
     ]
    }
   ],
   "source": [
    "total_trips = clean_taxi_data.agg(count(\"tpep_pickup_datetime\").alias(\"total_trips\"))\n",
    "total_trips = total_trips.select(format_number(\"total_trips\", 0).alias(\"total_trips\")).show()\n"
   ]
  },
  {
   "cell_type": "markdown",
   "id": "ec1a3602-9b1d-49b3-b588-95364a9126b0",
   "metadata": {},
   "source": [
    "#### 2) Extracting the busiest month, day and hours of the year\n",
    "\n",
    "##### Top 5 busiest months of the year"
   ]
  },
  {
   "cell_type": "code",
   "execution_count": 10,
   "id": "843059cc-7803-4c36-9daf-65e0e068e800",
   "metadata": {},
   "outputs": [
    {
     "name": "stdout",
     "output_type": "stream",
     "text": [
      "+------------+-------+\n",
      "|pickup_month|  count|\n",
      "+------------+-------+\n",
      "|          10|3522253|\n",
      "|           5|3513664|\n",
      "|           3|3403660|\n",
      "|           6|3307259|\n",
      "|           4|3288248|\n",
      "+------------+-------+\n",
      "only showing top 5 rows\n",
      "\n"
     ]
    }
   ],
   "source": [
    "busiest_months = (clean_taxi_data\n",
    "               .groupby(\"pickup_month\").count()\n",
    "               .orderBy(col(\"count\").desc()))\n",
    "busiest_months.show(5)"
   ]
  },
  {
   "cell_type": "markdown",
   "id": "2cdc337c-43aa-442a-bc8d-85d625d18e59",
   "metadata": {},
   "source": [
    "##### Top 5 busiest dates of the year\n"
   ]
  },
  {
   "cell_type": "code",
   "execution_count": 11,
   "id": "a452920a-7056-44eb-85fa-1b2c80f95c43",
   "metadata": {},
   "outputs": [
    {
     "name": "stdout",
     "output_type": "stream",
     "text": [
      "+----------+-------+\n",
      "|pickup_day|  count|\n",
      "+----------+-------+\n",
      "|        14|1114834|\n",
      "|        15|1097783|\n",
      "|        13|1096709|\n",
      "|        12|1094888|\n",
      "|        18|1088352|\n",
      "+----------+-------+\n",
      "only showing top 5 rows\n",
      "\n"
     ]
    }
   ],
   "source": [
    "busiest_days = (clean_taxi_data\n",
    "                .groupBy(\"pickup_day\").count()\n",
    "                .orderBy(\"count\", ascending=False))\n",
    "busiest_days.show(5)"
   ]
  },
  {
   "cell_type": "markdown",
   "id": "6cda05c6-8ddb-45ae-a521-9779652e9106",
   "metadata": {},
   "source": [
    "##### Top 5 busiest dates of the year\n"
   ]
  },
  {
   "cell_type": "code",
   "execution_count": 12,
   "id": "23ad133b-f623-40d8-971a-33605c753827",
   "metadata": {},
   "outputs": [
    {
     "name": "stdout",
     "output_type": "stream",
     "text": [
      "+-----------+-------+\n",
      "|pickup_hour|  count|\n",
      "+-----------+-------+\n",
      "|         18|2229987|\n",
      "|         17|2126540|\n",
      "|         19|1993941|\n",
      "|         16|1953194|\n",
      "|         15|1944701|\n",
      "+-----------+-------+\n",
      "only showing top 5 rows\n",
      "\n"
     ]
    }
   ],
   "source": [
    "busiest_hours = (clean_taxi_data\n",
    "                .groupBy(\"pickup_hour\").count()\n",
    "                .orderBy(\"count\", ascending=False))\n",
    "busiest_hours.show(5)"
   ]
  },
  {
   "cell_type": "markdown",
   "id": "7b64df90-f081-4852-9685-1691bda741bb",
   "metadata": {},
   "source": [
    "##### Top 5 busiest day of the week\n"
   ]
  },
  {
   "cell_type": "code",
   "execution_count": 13,
   "id": "0001df16-4d82-41f5-b0d5-0836df9bda1c",
   "metadata": {},
   "outputs": [
    {
     "name": "stdout",
     "output_type": "stream",
     "text": [
      "+-------------+-----------+\n",
      "|week_day_full|no_of_trips|\n",
      "+-------------+-----------+\n",
      "|     Thursday|    4941591|\n",
      "|    Wednesday|    4816099|\n",
      "|       Friday|    4653009|\n",
      "|      Tuesday|    4636528|\n",
      "|     Saturday|    4558096|\n",
      "|       Monday|    4013236|\n",
      "|       Sunday|    3975385|\n",
      "+-------------+-----------+\n",
      "\n",
      "Busiest month for Taxi : 10 th month\n",
      "Busiest day for Taxi : 14 th day\n",
      "Busiest Hours for Taxi : 18 th hr\n"
     ]
    }
   ],
   "source": [
    "Busiest_day = (clean_taxi_data\n",
    "               .groupBy(\"week_day_full\")\n",
    "               .agg(count(\"week_day_full\").alias(\"no_of_trips\"))\n",
    "               .orderBy(col(\"no_of_trips\").desc()))\n",
    "Busiest_day.show()\n",
    "month_trips = clean_taxi_data.groupBy(\"pickup_month\").count()\n",
    "busiest_month = month_trips.orderBy(\"count\", ascending=False).first()[\"pickup_month\"]\n",
    "print(\"Busiest month for Taxi :\",busiest_month,\"th month\")\n",
    "\n",
    "day_count = clean_taxi_data.groupby(\"pickup_day\").count()\n",
    "busiest_day = day_count.orderBy(\"count\", ascending=False).first()[\"pickup_day\"]\n",
    "print(\"Busiest day for Taxi :\",busiest_day,\"th day\")\n",
    "\n",
    "hour_count = clean_taxi_data.groupby(\"pickup_hour\").count() \n",
    "busiest_hour = hour_count.orderBy(\"count\", ascending=False).first()[\"pickup_hour\"]\n",
    "print(\"Busiest Hours for Taxi :\",busiest_hour,\"th hr\")\n"
   ]
  },
  {
   "cell_type": "markdown",
   "id": "0f0e779e-ee66-4304-a640-c79cb272becf",
   "metadata": {},
   "source": [
    "#### 3) Most popular pickup and drop locations\n",
    "\n",
    "##### Finding the most popular locations from the pickup location ID and drop location ID\n",
    "\n"
   ]
  },
  {
   "cell_type": "code",
   "execution_count": 14,
   "id": "6b1c6739-361b-4403-8ff9-05c89409c845",
   "metadata": {},
   "outputs": [
    {
     "name": "stdout",
     "output_type": "stream",
     "text": [
      "+------------+-------------+\n",
      "|PULocationID|no_of_pickups|\n",
      "+------------+-------------+\n",
      "|         132|      1682242|\n",
      "|         237|      1458961|\n",
      "|         161|      1454770|\n",
      "|         236|      1297836|\n",
      "|         162|      1111850|\n",
      "+------------+-------------+\n",
      "only showing top 5 rows\n",
      "\n",
      "+------------+-----------+\n",
      "|DOLocationID|no_of_drops|\n",
      "+------------+-----------+\n",
      "|         236|    1366810|\n",
      "|         237|    1305866|\n",
      "|         161|    1220521|\n",
      "|         230|     973739|\n",
      "|         170|     933601|\n",
      "+------------+-----------+\n",
      "only showing top 5 rows\n",
      "\n",
      "+------------+------------+-----+\n",
      "|PULocationID|DOLocationID|count|\n",
      "+------------+------------+-----+\n",
      "|         246|         249|14755|\n",
      "|          90|         231|12500|\n",
      "|         234|         144|15892|\n",
      "|         148|         262| 3088|\n",
      "|          87|          33| 1382|\n",
      "+------------+------------+-----+\n",
      "only showing top 5 rows\n",
      "\n"
     ]
    }
   ],
   "source": [
    "popular_pickup_locations = (clean_taxi_data\n",
    "                            .groupBy(\"PULocationID\")\n",
    "                            .agg(count(\"PULocationID\").alias(\"no_of_pickups\"))\n",
    "                            .orderBy(col(\"no_of_pickups\").desc()))\n",
    "\n",
    "\n",
    "popular_drop_locations = (clean_taxi_data\n",
    "                          .groupBy(\"DOLocationID\")\n",
    "                          .agg(count(\"DOLocationID\").alias(\"no_of_drops\"))\n",
    "                          .orderBy(col(\"no_of_drops\").desc()))\n",
    "\n",
    "\n",
    "popular_pickup_drop_locations = clean_taxi_data.groupBy(\"PULocationID\",\"DOLocationID\").count()\n",
    "\n",
    "popular_pickup_locations.show(5)\n",
    "popular_drop_locations.show(5)\n",
    "popular_pickup_drop_locations.show(5)\n"
   ]
  },
  {
   "cell_type": "markdown",
   "id": "17d5eb37-67f8-47e5-8d2f-d81b64b20c52",
   "metadata": {},
   "source": [
    "\n",
    "##### Extracting busiest locations of each month based on the number of trips\n"
   ]
  },
  {
   "cell_type": "code",
   "execution_count": 15,
   "id": "16bb308c-bde1-41bb-803f-6f95516d814e",
   "metadata": {},
   "outputs": [
    {
     "name": "stdout",
     "output_type": "stream",
     "text": [
      "+------------+------------+-----------+\n",
      "|pickup_month|PULocationID|no_of_trips|\n",
      "+------------+------------+-----------+\n",
      "|           1|         132|     160031|\n",
      "|           2|         161|     135334|\n",
      "|           3|         132|     169834|\n",
      "|           4|         132|     173356|\n",
      "|           5|         132|     177792|\n",
      "|           6|         132|     180399|\n",
      "|           7|         132|     176232|\n",
      "|           8|         132|     172658|\n",
      "|           9|         132|     159348|\n",
      "|          10|         132|     180476|\n",
      "|          11|         132|          3|\n",
      "|          12|         132|         15|\n",
      "+------------+------------+-----------+\n",
      "\n"
     ]
    }
   ],
   "source": [
    "busiest_loc_month = (clean_taxi_data\n",
    "                     .groupBy(\"pickup_month\",\"PULocationID\")\n",
    "                     .agg(count(\"PULocationID\").alias(\"no_of_trips\")))\n",
    "busiest_loc_per_month = (busiest_loc_month \n",
    "                         .withColumn(\"rank\", dense_rank().over(Window.partitionBy(\"pickup_month\")\n",
    "                                                               .orderBy(col(\"no_of_trips\").desc())))\n",
    "                         .filter(col(\"rank\") == 1) \n",
    "                         .drop(\"rank\"))\n",
    "busiest_loc_per_month.show()"
   ]
  },
  {
   "cell_type": "markdown",
   "id": "d4bbe00d-9aa9-42f2-b5f6-cb2c5b4778c0",
   "metadata": {},
   "source": [
    "#### 4) Analysing Fare amount using statistical analysis"
   ]
  },
  {
   "cell_type": "code",
   "execution_count": 16,
   "id": "a503538b-f219-431d-8315-40a04d865bfe",
   "metadata": {},
   "outputs": [
    {
     "name": "stdout",
     "output_type": "stream",
     "text": [
      "+-------+-----------------+\n",
      "|summary|      fare_amount|\n",
      "+-------+-----------------+\n",
      "|  count|         31593944|\n",
      "|   mean|19.49314451782376|\n",
      "| stddev|82.93494589972772|\n",
      "|    min|           -959.9|\n",
      "|    25%|              9.3|\n",
      "|    50%|             13.5|\n",
      "|    75%|             21.9|\n",
      "|    max|        386983.63|\n",
      "+-------+-----------------+\n",
      "\n",
      "[Row(max(fare_amount)=386983.63)]\n",
      "[Row(min(fare_amount)=-959.9)]\n",
      "[Row(avg(fare_amount)=19.49314451782376)]\n",
      "[Row(stddev(fare_amount)=82.93494589972772)]\n",
      "[Row(count(fare_amount)=31593944)]\n"
     ]
    }
   ],
   "source": [
    "fare_amount_summary = (clean_taxi_data\n",
    "                       .filter(col(\"fare_amount\") < 0) \n",
    "                       .drop(\"fare_amount < 0\"))\n",
    "fare_amount = clean_taxi_data.select(\"fare_amount\").summary().show()\n",
    "min_fare_amount = clean_taxi_data.select(min(\"fare_amount\")).collect()\n",
    "max_fare_amount = clean_taxi_data.select(max(\"fare_amount\")).collect()\n",
    "mean_fare_amount = clean_taxi_data.select(mean(\"fare_amount\")).collect()\n",
    "stddev_fare_amount = clean_taxi_data.select(stddev(\"fare_amount\")).collect()\n",
    "total_fare_count = clean_taxi_data.select(count(\"fare_amount\")).collect()\n",
    "\n",
    "print(max_fare_amount)\n",
    "print(min_fare_amount)\n",
    "print(mean_fare_amount)\n",
    "print(stddev_fare_amount)\n",
    "print(total_fare_count)"
   ]
  },
  {
   "cell_type": "markdown",
   "id": "06b6347f-cee4-470a-a5df-e46658173a53",
   "metadata": {},
   "source": [
    "#### 5) Looking for the most preferred Payment type "
   ]
  },
  {
   "cell_type": "code",
   "execution_count": 17,
   "id": "0a27a8b1-2e00-4295-9b5d-662196363382",
   "metadata": {},
   "outputs": [
    {
     "name": "stdout",
     "output_type": "stream",
     "text": [
      "+------------+--------------+\n",
      "|payment_type|no_of_payments|\n",
      "+------------+--------------+\n",
      "|           1|      24652168|\n",
      "|           2|       5351160|\n",
      "|           4|        396394|\n",
      "|           3|        197542|\n",
      "|           5|             2|\n",
      "+------------+--------------+\n",
      "\n"
     ]
    }
   ],
   "source": [
    "preferred_payment_type = (clean_taxi_data\n",
    "                            .filter(col(\"payment_type\") > 0)\n",
    "                            .groupBy(\"payment_type\")\n",
    "                            .agg(count(\"payment_type\").alias(\"no_of_payments\"))\n",
    "                            .orderBy(col(\"no_of_payments\").desc())\n",
    "                         )\n",
    "preferred_payment_type.show()\n"
   ]
  },
  {
   "cell_type": "markdown",
   "id": "ec479d1d-329e-4649-bc05-63479e94f7a0",
   "metadata": {},
   "source": [
    "#### 6)  Calculating Average trip distance\n"
   ]
  },
  {
   "cell_type": "code",
   "execution_count": 18,
   "id": "908985ba-ebb3-4f27-9433-2c33e44241ea",
   "metadata": {},
   "outputs": [
    {
     "name": "stdout",
     "output_type": "stream",
     "text": [
      "+-----------------+\n",
      "|avg_trip_distance|\n",
      "+-----------------+\n",
      "|             4.18|\n",
      "+-----------------+\n",
      "\n"
     ]
    }
   ],
   "source": [
    "avg_trip_distance = (clean_taxi_data\n",
    "                     .agg(avg(\"trip_distance\").alias (\"avg_trip_distance\"))\n",
    "                     .select(round(\"avg_trip_distance\", 2).alias(\"avg_trip_distance\")))\n",
    "avg_trip_distance.show()"
   ]
  },
  {
   "cell_type": "markdown",
   "id": "97029d88-c3fd-4781-9823-1504df606757",
   "metadata": {},
   "source": [
    "#### 7) Finding occupancy of the vehicles using passenger count\n"
   ]
  },
  {
   "cell_type": "code",
   "execution_count": 19,
   "id": "0942e6ae-1fcd-4553-bb49-207a27e84e33",
   "metadata": {},
   "outputs": [
    {
     "name": "stdout",
     "output_type": "stream",
     "text": [
      "+---------------+--------+\n",
      "|passenger_count|   trips|\n",
      "+---------------+--------+\n",
      "|              9|      46|\n",
      "|              7|      67|\n",
      "|              8|     166|\n",
      "|              6|  267804|\n",
      "|              5|  404224|\n",
      "|              0|  499112|\n",
      "|              4|  631774|\n",
      "|              3| 1143944|\n",
      "|              2| 4611264|\n",
      "|              1|23038865|\n",
      "+---------------+--------+\n",
      "\n"
     ]
    }
   ],
   "source": [
    "\n",
    "clean_taxi_data = clean_taxi_data.withColumn(\"passenger_count\", col(\"passenger_count\").cast(\"int\"))\n",
    "trip_passenger_count = (clean_taxi_data\n",
    "                        .filter(col(\"passenger_count\").isNotNull())\n",
    "                        .groupBy(\"passenger_count\")\n",
    "                        .agg(count(\"passenger_count\").alias(\"trips\"))\n",
    "                        .orderBy(col(\"trips\")))\n",
    "\n",
    "trip_passenger_count.show()"
   ]
  },
  {
   "cell_type": "markdown",
   "id": "ec114389-3edc-4a4f-b1dc-bd843da5b486",
   "metadata": {},
   "source": [
    "\n",
    "#### 8) Comparing Vendors performance based on the carried out trips and the revenue generated by each vendor"
   ]
  },
  {
   "cell_type": "code",
   "execution_count": 20,
   "id": "86bafcf8-fa36-4972-b2c1-d351ba9bc400",
   "metadata": {},
   "outputs": [
    {
     "name": "stdout",
     "output_type": "stream",
     "text": [
      "+--------+-----------+--------------------+\n",
      "|VendorID|no_of_trips|             revenue|\n",
      "+--------+-----------+--------------------+\n",
      "|       2|   23245567| 6.708699108793312E8|\n",
      "|       1|    8340582|2.2695255875007364E8|\n",
      "|       6|       7795|            352696.6|\n",
      "+--------+-----------+--------------------+\n",
      "\n"
     ]
    }
   ],
   "source": [
    "vendors = (clean_taxi_data\n",
    "               .groupBy(\"VendorID\")\n",
    "               .agg(count(\"pickup_day\").alias(\"no_of_trips\"),\n",
    "                    sum(\"total_amount\").alias(\"revenue\"))\n",
    "               .orderBy(col(\"no_of_trips\").desc()))\n",
    "\n",
    "vendors.show()"
   ]
  },
  {
   "cell_type": "markdown",
   "id": "4e38ebfc-508f-473f-a421-a1e13434f469",
   "metadata": {},
   "source": [
    "#### 9) Examining customer satisfaction by analysing the ratings \n",
    "\n",
    "##### Calculating the count of each rating"
   ]
  },
  {
   "cell_type": "code",
   "execution_count": 21,
   "id": "f7111c6d-67a4-4e3e-aa26-794434e236fd",
   "metadata": {},
   "outputs": [
    {
     "name": "stdout",
     "output_type": "stream",
     "text": [
      "+----------+--------+\n",
      "|RatecodeID|   count|\n",
      "+----------+--------+\n",
      "|       1.0|28852288|\n",
      "|       2.0| 1234748|\n",
      "|       5.0|  171932|\n",
      "|       3.0|  105538|\n",
      "|       4.0|   63822|\n",
      "|       6.0|      52|\n",
      "+----------+--------+\n",
      "\n"
     ]
    }
   ],
   "source": [
    "ratecode_count = (clean_taxi_data\n",
    "                  .filter((col(\"RatecodeID\") <= 6) & (col(\"RatecodeID\").isNotNull()))\n",
    "                  .groupBy(\"RatecodeID\").count()\n",
    "                  .orderBy(col(\"count\").desc()))\n",
    "\n",
    "ratecode_count.show()\n"
   ]
  },
  {
   "cell_type": "markdown",
   "id": "0be110fa-60d8-41c2-a419-d7dd79280409",
   "metadata": {},
   "source": [
    "##### Calculating average rating"
   ]
  },
  {
   "cell_type": "code",
   "execution_count": 22,
   "id": "6678e97a-9c1d-4fb3-b345-de0cf04ab9b8",
   "metadata": {},
   "outputs": [
    {
     "name": "stdout",
     "output_type": "stream",
     "text": [
      "+------------+\n",
      "|avg_ratecode|\n",
      "+------------+\n",
      "|         1.6|\n",
      "+------------+\n",
      "\n"
     ]
    }
   ],
   "source": [
    "avg_ratecode = (clean_taxi_data\n",
    "                .agg(avg(\"RatecodeID\").alias(\"avg_ratecode\"))\n",
    "                .select(format_number(\"avg_ratecode\",1).alias(\"avg_ratecode\")))\n",
    "\n",
    "avg_ratecode.show()"
   ]
  },
  {
   "cell_type": "markdown",
   "id": "949c466a-b85f-4037-8afd-0d6bace00cbe",
   "metadata": {},
   "source": [
    "#### 10) Analysis tip amounts\n",
    "\n",
    "##### Calculating average tip amount"
   ]
  },
  {
   "cell_type": "code",
   "execution_count": 23,
   "id": "74973f42-3fd0-4655-b72a-e1663dac68dc",
   "metadata": {},
   "outputs": [
    {
     "name": "stdout",
     "output_type": "stream",
     "text": [
      "+--------------+\n",
      "|avg_tip_amount|\n",
      "+--------------+\n",
      "|          3.51|\n",
      "+--------------+\n",
      "\n"
     ]
    }
   ],
   "source": [
    "avg_tip_amount = (clean_taxi_data\n",
    "                  .agg(avg(\"tip_amount\").alias(\"avg_tip_amount\"))\n",
    "                  .select(format_number(\"avg_tip_amount\", 2).alias(\"avg_tip_amount\")))\n",
    "avg_tip_amount.show()"
   ]
  },
  {
   "cell_type": "markdown",
   "id": "6ee71874-e430-4a62-9182-7a3685574fda",
   "metadata": {},
   "source": [
    "##### Total tips earned every month"
   ]
  },
  {
   "cell_type": "code",
   "execution_count": 24,
   "id": "e8523d09-8589-42f0-a109-3e2d860c7556",
   "metadata": {},
   "outputs": [
    {
     "name": "stdout",
     "output_type": "stream",
     "text": [
      "+------------+--------------------+\n",
      "|pickup_month|          tip_amount|\n",
      "+------------+--------------------+\n",
      "|          11|               71.97|\n",
      "|          12|               253.1|\n",
      "|           8|   9632297.070000062|\n",
      "|           2|   9863234.470002983|\n",
      "|           7|1.0020336230003804E7|\n",
      "|           9|1.0320233099999541E7|\n",
      "|           1|1.0328537450001555E7|\n",
      "|           4|1.1548492490005912E7|\n",
      "|           6|1.1889273410005562E7|\n",
      "|           3| 1.189685892000154E7|\n",
      "|           5|1.2683914450006766E7|\n",
      "|          10|1.2795411629998915E7|\n",
      "+------------+--------------------+\n",
      "\n"
     ]
    }
   ],
   "source": [
    "month_trips = (clean_taxi_data\n",
    "               .groupBy(\"pickup_month\")\n",
    "               .agg(sum(\"tip_amount\").alias(\"tip_amount\"))\n",
    "               .orderBy((\"tip_amount\")))\n",
    "month_trips.show()"
   ]
  },
  {
   "cell_type": "markdown",
   "id": "7af28dcc-1b9f-4d7a-a61e-bfe3a3a460b5",
   "metadata": {},
   "source": [
    "##### Calculating the most tipped location"
   ]
  },
  {
   "cell_type": "code",
   "execution_count": 25,
   "id": "6492b578-abf7-4fd3-958f-7169f0eed4a5",
   "metadata": {},
   "outputs": [
    {
     "name": "stdout",
     "output_type": "stream",
     "text": [
      "+------------+----------+\n",
      "|DOLocationID|no_of_tips|\n",
      "+------------+----------+\n",
      "|         236|   1366810|\n",
      "|         237|   1305866|\n",
      "|         161|   1220521|\n",
      "|         230|    973739|\n",
      "|         170|    933601|\n",
      "+------------+----------+\n",
      "only showing top 5 rows\n",
      "\n"
     ]
    }
   ],
   "source": [
    "most_tiped_locations = (clean_taxi_data\n",
    "                        .groupBy(\"DOLocationID\")\n",
    "                        .agg(count(\"tip_amount\").alias(\"no_of_tips\"))\n",
    "                        .orderBy(col(\"no_of_tips\").desc()))\n",
    "most_tiped_locations.show(5)"
   ]
  },
  {
   "cell_type": "markdown",
   "id": "f3e7093e-542f-4d4a-a05c-4e3087b4b661",
   "metadata": {},
   "source": [
    "#### 11) Airport trip and Airport fee analysis\n",
    "\n",
    "##### Calculating the number of airport trips and the money spent on airport fees\n"
   ]
  },
  {
   "cell_type": "code",
   "execution_count": 31,
   "id": "e578945c-72b4-4dd3-896f-e666f2478a71",
   "metadata": {},
   "outputs": [],
   "source": [
    "airport_trips = clean_taxi_data.agg(count(\"tpep_pickup_datetime\").alias(\"total_trips\"))"
   ]
  },
  {
   "cell_type": "code",
   "execution_count": 32,
   "id": "a6c049d6-87be-4170-a0b8-6ccd4b4f9f1e",
   "metadata": {},
   "outputs": [
    {
     "name": "stdout",
     "output_type": "stream",
     "text": [
      "+-------------+-----------+\n",
      "|airport_trips|airport_fee|\n",
      "+-------------+-----------+\n",
      "|      2704095| 4332386.95|\n",
      "+-------------+-----------+\n",
      "\n"
     ]
    }
   ],
   "source": [
    "airport_trips = (clean_taxi_data\n",
    "                 .filter((col(\"airport_fee\") > 0) & (col(\"airport_fee\").isNotNull()))\n",
    "                 .agg(count(\"airport_fee\").alias(\"airport_trips\"), \n",
    "                      sum(\"airport_fee\").alias(\"airport_fee\")))\n",
    "airport_trips.show()"
   ]
  },
  {
   "cell_type": "markdown",
   "id": "1c4c062c-2eee-421a-88fa-18f1570636cc",
   "metadata": {},
   "source": [
    "##### Calculating the number of trips to the airport every month"
   ]
  },
  {
   "cell_type": "code",
   "execution_count": 27,
   "id": "8c7d3ec0-124b-48e7-8881-a74390bbd8fe",
   "metadata": {},
   "outputs": [
    {
     "name": "stdout",
     "output_type": "stream",
     "text": [
      "+------------+-------------+\n",
      "|pickup_month|airport_trips|\n",
      "+------------+-------------+\n",
      "|           1|       260961|\n",
      "|           2|       222576|\n",
      "|           3|       279677|\n",
      "|           4|       271370|\n",
      "|           5|       278731|\n",
      "|           6|       285281|\n",
      "|           7|       269547|\n",
      "|           8|       274390|\n",
      "|           9|       259925|\n",
      "|          10|       301622|\n",
      "|          11|            2|\n",
      "|          12|           13|\n",
      "+------------+-------------+\n",
      "\n"
     ]
    }
   ],
   "source": [
    "airport_trips_month = (clean_taxi_data\n",
    "                       .filter((col(\"airport_fee\") > 0) & (col(\"airport_fee\").isNotNull()))\n",
    "                       .groupBy(\"pickup_month\")\n",
    "                       .agg(count(\"airport_fee\").alias(\"airport_trips\"))\n",
    "                       .orderBy(col(\"pickup_month\")))\n",
    "\n",
    "airport_trips_month.show()"
   ]
  },
  {
   "cell_type": "markdown",
   "id": "841e5181-ba24-4cf2-a51c-dbcaf6c36d94",
   "metadata": {},
   "source": [
    "## Visualizing data\n",
    "A) Preffered Pament type based one the mode of payments for every trip."
   ]
  },
  {
   "cell_type": "code",
   "execution_count": 28,
   "id": "78329425-99b6-4164-b1ba-e2a351cb7acd",
   "metadata": {},
   "outputs": [
    {
     "data": {
      "image/png": "[encoded data removed]",
      "text/plain": [
       "<Figure size 500x500 with 1 Axes>"
      ]
     },
     "metadata": {},
     "output_type": "display_data"
    }
   ],
   "source": [
    "\n",
    "payment_types_data = clean_taxi_data.groupBy(\"payment_type\").count().toPandas()\n",
    "\n",
    "bar_colors = ['green', 'purple', 'red', 'blue', 'orange', 'brown']\n",
    "\n",
    "plt.figure(figsize=(5, 5))\n",
    "sns.barplot(x=\"payment_type\", y=\"count\", data=payment_types_data, palette=bar_colors, hue=\"payment_type\")\n",
    "plt.title(\"Preferred Payment Type\")\n",
    "plt.xlabel(\"Payment Type\")\n",
    "plt.ylabel(\"Number of Trips\")\n",
    "plt.show()"
   ]
  },
  {
   "cell_type": "markdown",
   "id": "aab08489-0e3c-4e72-ba13-6a0fd88137d8",
   "metadata": {},
   "source": [
    "B) Distribution of trips through out the month."
   ]
  },
  {
   "cell_type": "code",
   "execution_count": 29,
   "id": "04eafee7-ae3b-4bba-8454-c9f75ce22c3a",
   "metadata": {},
   "outputs": [
    {
     "data": {
      "image/png": "[encoded data removed]",
      "text/plain": [
       "<Figure size 1000x300 with 1 Axes>"
      ]
     },
     "metadata": {},
     "output_type": "display_data"
    }
   ],
   "source": [
    "\n",
    "pickup_hour_data = clean_taxi_data.groupBy(\"pickup_day\").agg(count(\"*\").alias(\"no_of_trips\")).toPandas()\n",
    "\n",
    "plt.figure(figsize=(10, 3))\n",
    "sns.lineplot(x=\"pickup_day\", y=\"no_of_trips\", data=pickup_hour_data)\n",
    "plt.title(\"Busiest days\")\n",
    "plt.xlabel(\"Days\")\n",
    "plt.ylabel(\"Number of Trips\")\n",
    "plt.show()"
   ]
  },
  {
   "cell_type": "markdown",
   "id": "8fd0a4e1-0cee-4653-832b-ffbb21277bee",
   "metadata": {},
   "source": [
    "C) Distribution of trips through out the year."
   ]
  },
  {
   "cell_type": "code",
   "execution_count": 33,
   "id": "b358ce01-2f93-48a6-9a31-d4309083d43c",
   "metadata": {},
   "outputs": [
    {
     "data": {
      "text/plain": [
       "<Axes: xlabel='pickup_month', ylabel='no_of_trips'>"
      ]
     },
     "execution_count": 33,
     "metadata": {},
     "output_type": "execute_result"
    },
    {
     "data": {
      "image/png": "[encoded data removed]",
      "text/plain": [
       "<Figure size 640x480 with 1 Axes>"
      ]
     },
     "metadata": {},
     "output_type": "display_data"
    }
   ],
   "source": [
    "pickup_month_data = clean_taxi_data.groupBy(\"pickup_month\").agg(count(\"*\").alias(\"no_of_trips\")).toPandas()\n",
    "\n",
    "pickup_month_data.plot.scatter(x='pickup_month', y='no_of_trips')"
   ]
  },
  {
   "cell_type": "markdown",
   "id": "7bd67b0f-3d7a-4e30-8c33-be47da599fbb",
   "metadata": {},
   "source": [
    "D) Distribution of trips through the day"
   ]
  },
  {
   "cell_type": "code",
   "execution_count": 34,
   "id": "1fb4472d-0079-43f0-9df9-f2b57f0acaf3",
   "metadata": {},
   "outputs": [
    {
     "data": {
      "image/png": "[encoded data removed]",
      "text/plain": [
       "<Figure size 1500x500 with 1 Axes>"
      ]
     },
     "metadata": {},
     "output_type": "display_data"
    }
   ],
   "source": [
    "\n",
    "pickup_hour_data_pd = clean_taxi_data.groupBy(\"pickup_hour\").agg(count(\"*\").alias(\"no_of_trips\")).toPandas()\n",
    "\n",
    "plt.figure(figsize=(15, 5))\n",
    "plt.bar(pickup_hour_data_pd['pickup_hour'], pickup_hour_data_pd['no_of_trips'], color='lightblue')\n",
    "plt.xlabel('Pickup Hour')\n",
    "plt.ylabel('Number of Trips')\n",
    "plt.title('Distribution of Trips by Pickup Hour')\n",
    "plt.grid(axis='y', linestyle='--', alpha=0.7)\n",
    "\n",
    "plt.show()"
   ]
  },
  {
   "cell_type": "markdown",
   "id": "67afebfa-cedb-4a65-8806-5b1d4bfa0e8e",
   "metadata": {},
   "source": [
    "E) Distribution of Trips for every month"
   ]
  },
  {
   "cell_type": "code",
   "execution_count": 35,
   "id": "17265c01-f6e8-4e3e-a9b5-23336ec35ca2",
   "metadata": {},
   "outputs": [
    {
     "data": {
      "text/plain": [
       "<Axes: ylabel='pickup_month'>"
      ]
     },
     "execution_count": 35,
     "metadata": {},
     "output_type": "execute_result"
    },
    {
     "data": {
      "image/png": "[encoded data removed]",
      "text/plain": [
       "<Figure size 640x480 with 1 Axes>"
      ]
     },
     "metadata": {},
     "output_type": "display_data"
    }
   ],
   "source": [
    "busiest_loc_per_month_pd = busiest_loc_per_month.toPandas()\n",
    "busiest_loc_per_month_pd.plot.barh(x='pickup_month', y='no_of_trips') \n"
   ]
  },
  {
   "cell_type": "markdown",
   "id": "7b78112e-c0c3-4448-a7a9-9d1b227a2041",
   "metadata": {},
   "source": [
    "F) Distribution of trips troughout the Week"
   ]
  },
  {
   "cell_type": "code",
   "execution_count": 37,
   "id": "c1d7d4eb-f769-40bd-a55e-a8a0a9c21357",
   "metadata": {},
   "outputs": [
    {
     "data": {
      "image/png": "[encoded data removed]",
      "text/plain": [
       "<Figure size 700x300 with 1 Axes>"
      ]
     },
     "metadata": {},
     "output_type": "display_data"
    }
   ],
   "source": [
    "Busiest_day_pd = Busiest_day.toPandas()\n",
    "\n",
    "bar_colors = ['purple', 'purple', 'lightblue', 'lightblue', 'purple', 'purple', 'purple']\n",
    "\n",
    "plt.figure(figsize=(7, 3))\n",
    "sns.barplot(x=\"week_day_full\", y=\"no_of_trips\", data=Busiest_day_pd, palette=bar_colors, hue=\"week_day_full\")\n",
    "plt.title(\"Busiest day\")\n",
    "plt.xlabel(\"Day\")\n",
    "plt.ylabel(\"Number of Trips\")\n",
    "plt.show()\n"
   ]
  },
  {
   "cell_type": "markdown",
   "id": "bca16b22-8b53-45dd-85f5-7dfad5280f8f",
   "metadata": {},
   "source": [
    "G) Usage of payment types"
   ]
  },
  {
   "cell_type": "code",
   "execution_count": 38,
   "id": "b4b44531-6154-478c-9520-18ffcf5e6f06",
   "metadata": {},
   "outputs": [
    {
     "data": {
      "text/plain": [
       "<Axes: ylabel='payment_type'>"
      ]
     },
     "execution_count": 38,
     "metadata": {},
     "output_type": "execute_result"
    },
    {
     "data": {
      "image/png": "[encoded data removed]",
      "text/plain": [
       "<Figure size 640x480 with 1 Axes>"
      ]
     },
     "metadata": {},
     "output_type": "display_data"
    }
   ],
   "source": [
    "\n",
    "preferred_payment_type_pd = preferred_payment_type.toPandas()\n",
    "\n",
    "preferred_payment_type_pd.plot.pie(y='payment_type')\n"
   ]
  },
  {
   "cell_type": "markdown",
   "id": "2626d450-058f-4112-8cd7-daecf8dea925",
   "metadata": {},
   "source": [
    "H)Showcassing the Passenger count"
   ]
  },
  {
   "cell_type": "code",
   "execution_count": 39,
   "id": "17bb9a93-5335-41f2-8b4c-4ce065bde53a",
   "metadata": {},
   "outputs": [
    {
     "data": {
      "text/plain": [
       "<Axes: ylabel='passenger_count'>"
      ]
     },
     "execution_count": 39,
     "metadata": {},
     "output_type": "execute_result"
    },
    {
     "data": {
      "image/png": "[encoded data removed]",
      "text/plain": [
       "<Figure size 640x480 with 1 Axes>"
      ]
     },
     "metadata": {},
     "output_type": "display_data"
    }
   ],
   "source": [
    "trip_passenger_count_pd = trip_passenger_count.toPandas()\n",
    "\n",
    "trip_passenger_count_pd.plot.barh(x='passenger_count', y='trips') \n"
   ]
  },
  {
   "cell_type": "markdown",
   "id": "b39d4610-9276-4ac9-9481-3fe3cc6b87f1",
   "metadata": {},
   "source": [
    "I) Perfformance of Vendors"
   ]
  },
  {
   "cell_type": "code",
   "execution_count": 40,
   "id": "75606dc1-a23a-49ed-b42f-8996f3a2a327",
   "metadata": {},
   "outputs": [
    {
     "data": {
      "text/plain": [
       "<Axes: ylabel='VendorID'>"
      ]
     },
     "execution_count": 40,
     "metadata": {},
     "output_type": "execute_result"
    },
    {
     "data": {
      "image/png": "[encoded data removed]",
      "text/plain": [
       "<Figure size 640x480 with 1 Axes>"
      ]
     },
     "metadata": {},
     "output_type": "display_data"
    }
   ],
   "source": [
    "vendors_pd = vendors.toPandas()\n",
    "\n",
    "vendors_pd.plot.pie(y='VendorID')"
   ]
  },
  {
   "cell_type": "markdown",
   "id": "03a59ad5-10bf-4c0b-8d4c-b134e2aa6ab7",
   "metadata": {},
   "source": [
    "J) Rate Distribution"
   ]
  },
  {
   "cell_type": "code",
   "execution_count": 41,
   "id": "d958c116-29fa-4980-a9cb-cd6331e78b29",
   "metadata": {},
   "outputs": [
    {
     "data": {
      "text/plain": [
       "<Axes: >"
      ]
     },
     "execution_count": 41,
     "metadata": {},
     "output_type": "execute_result"
    },
    {
     "data": {
      "image/png": "[encoded data removed]",
      "text/plain": [
       "<Figure size 640x480 with 1 Axes>"
      ]
     },
     "metadata": {},
     "output_type": "display_data"
    }
   ],
   "source": [
    "RatecodeID = [1, 2, 3, 4, 5, 6]\n",
    "rcount = [28852288, 1234748, 105538, 63822, 171932, 52] \n",
    "index = ['Standard rate', 'JFK', 'Newark',\n",
    "         'Nassau or Westchester', 'Negotiated fare', 'Group ride']\n",
    "\n",
    "ratecode_count_pd = pd.DataFrame({'RatecodeID':RatecodeID,'count': rcount}, index=index)\n",
    "ratecode_count_pd.plot.barh( y='count') "
   ]
  },
  {
   "cell_type": "markdown",
   "id": "b89b39bd-7aad-49a2-a9b1-ab7a827d7857",
   "metadata": {},
   "source": [
    "K) Airport trip Distribution through out the year"
   ]
  },
  {
   "cell_type": "code",
   "execution_count": 42,
   "id": "4d7352c4-8bef-4d09-893b-cd9d4d668b21",
   "metadata": {},
   "outputs": [
    {
     "data": {
      "text/plain": [
       "<Axes: xlabel='pickup_month'>"
      ]
     },
     "execution_count": 42,
     "metadata": {},
     "output_type": "execute_result"
    },
    {
     "data": {
      "image/png": "[encoded data removed]",
      "text/plain": [
       "<Figure size 640x480 with 1 Axes>"
      ]
     },
     "metadata": {},
     "output_type": "display_data"
    }
   ],
   "source": [
    "airport_trips_month_pd = airport_trips_month.toPandas()\n",
    "airport_trips_month_pd.plot.line(x=\"pickup_month\", y=\"airport_trips\")\n"
   ]
  },
  {
   "cell_type": "code",
   "execution_count": null,
   "id": "e8e00e02-3668-4ed3-a1c3-2ec4a4878a2c",
   "metadata": {},
   "outputs": [],
   "source": []
  }
 ],
 "metadata": {
  "kernelspec": {
   "display_name": "Python 3 (ipykernel)",
   "language": "python",
   "name": "python3"
  },
  "language_info": {
   "codemirror_mode": {
    "name": "ipython",
    "version": 3
   },
   "file_extension": ".py",
   "mimetype": "text/x-python",
   "name": "python",
   "nbconvert_exporter": "python",
   "pygments_lexer": "ipython3",
   "version": "3.11.6"
  }
 },
 "nbformat": 4,
 "nbformat_minor": 5
}
