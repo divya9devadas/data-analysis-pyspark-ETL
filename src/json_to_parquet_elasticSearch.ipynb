{
 "cells": [
  {
   "cell_type": "code",
   "execution_count": 12,
   "id": "635399c2-1f5f-4f63-841d-6aa90301d335",
   "metadata": {
    "editable": true,
    "slideshow": {
     "slide_type": ""
    },
    "tags": []
   },
   "outputs": [],
   "source": [
    "from pyspark.sql import SparkSession\n",
    "from pyspark.sql.types import StructType, StructField, StringType, FloatType, LongType, ArrayType, MapType\n",
    "from pyspark.sql.functions import col"
   ]
  },
  {
   "cell_type": "code",
   "execution_count": 2,
   "id": "f05dc885-f452-4d84-8fd0-c6731c402950",
   "metadata": {},
   "outputs": [],
   "source": [
    "# Initialize Spark session\n",
    "spark = SparkSession.builder \\\n",
    "    .appName(\"Handle Corrupt Records with Save\") \\\n",
    "    .config(\"spark.driver.memory\", \"6g\") \\\n",
    "    .config(\"spark.executor.memory\", \"12g\") \\\n",
    "    .config(\"spark.executor.cores\", \"10\") \\\n",
    "    .config(\"spark.sql.shuffle.partitions\", \"1000\") \\\n",
    "    .config(\"spark.network.timeout\", \"600s\") \\\n",
    "    .getOrCreate()"
   ]
  },
  {
   "cell_type": "code",
   "execution_count": 3,
   "id": "230e3ed9-0e6a-4cce-856a-ae30acf95f94",
   "metadata": {},
   "outputs": [],
   "source": [
    "# Define the schema\n",
    "schema = StructType([\n",
    "    StructField(\"_index\", StringType(), True),\n",
    "    StructField(\"_type\", StringType(), True),\n",
    "    StructField(\"_id\", StringType(), True),\n",
    "    StructField(\"_score\", FloatType(), True),\n",
    "    StructField(\"_ignored\", ArrayType(StringType()), True),\n",
    "    StructField(\"_source\", StructType([\n",
    "        StructField(\"@timestamp\", StringType(), True),\n",
    "        StructField(\"document\", StructType([\n",
    "            StructField(\"runId\", StringType(), True),\n",
    "            StructField(\"runName\", StringType(), True),\n",
    "            StructField(\"utcTime\", StringType(), True),\n",
    "            StructField(\"trace\", StructType([\n",
    "                StructField(\"disk\", StringType(), True),\n",
    "                StructField(\"%cpu\", FloatType(), True),\n",
    "                StructField(\"wchar\", LongType(), True),\n",
    "                StructField(\"container\", StringType(), True),\n",
    "                StructField(\"rchar\", LongType(), True),\n",
    "                StructField(\"module\", ArrayType(StringType()), True),\n",
    "                StructField(\"process\", StringType(), True),\n",
    "                StructField(\"memory\", LongType(), True),\n",
    "                StructField(\"syscw\", LongType(), True),\n",
    "                StructField(\"rss\", LongType(), True),\n",
    "                StructField(\"inv_ctxt\", LongType(), True),\n",
    "                StructField(\"error_action\", StringType(), True),\n",
    "                StructField(\"native_id\", StringType(), True),\n",
    "                StructField(\"read_bytes\", LongType(), True),\n",
    "                StructField(\"attempt\", LongType(), True),\n",
    "                StructField(\"vol_ctxt\", LongType(), True),\n",
    "                StructField(\"peak_vmem\", LongType(), True),\n",
    "                StructField(\"peak_rss\", LongType(), True),\n",
    "                StructField(\"workdir\", StringType(), True),\n",
    "                StructField(\"queue\", StringType(), True),\n",
    "                StructField(\"env\", StringType(), True),\n",
    "                StructField(\"script\", StringType(), True),\n",
    "                StructField(\"name\", StringType(), True),\n",
    "                StructField(\"realtime\", LongType(), True),\n",
    "                StructField(\"submit\", LongType(), True),\n",
    "                StructField(\"status\", StringType(), True),\n",
    "                StructField(\"tag\", StringType(), True),\n",
    "                StructField(\"scratch\", StringType(), True),\n",
    "                StructField(\"cpus\", LongType(), True),\n",
    "                StructField(\"task_id\", LongType(), True),\n",
    "                StructField(\"hash\", StringType(), True),\n",
    "                StructField(\"%mem\", FloatType(), True),\n",
    "                StructField(\"exit\", LongType(), True),\n",
    "                StructField(\"duration\", LongType(), True),\n",
    "                StructField(\"time\", LongType(), True),\n",
    "                StructField(\"write_bytes\", LongType(), True),\n",
    "                StructField(\"start\", LongType(), True),\n",
    "                StructField(\"complete\", LongType(), True),\n",
    "                StructField(\"vmem\", LongType(), True),\n",
    "                StructField(\"syscr\", LongType(), True)\n",
    "            ]), True),\n",
    "            StructField(\"event\", StringType(), True)\n",
    "        ]), True),\n",
    "        StructField(\"url\", StructType([\n",
    "            StructField(\"path\", StringType(), True),\n",
    "            StructField(\"domain\", StringType(), True)\n",
    "        ]), True),\n",
    "        StructField(\"host\", StringType(), True),\n",
    "        StructField(\"@version\", StringType(), True),\n",
    "        StructField(\"user_agent\", StructType([\n",
    "            StructField(\"original\", StringType(), True)\n",
    "        ]), True),\n",
    "        StructField(\"http\", StructType([\n",
    "            StructField(\"version\", StringType(), True),\n",
    "            StructField(\"method\", StringType(), True),\n",
    "            StructField(\"request\", StructType([\n",
    "                StructField(\"body\", StructType([\n",
    "                    StructField(\"bytes\", StringType(), True)\n",
    "                ]), True),\n",
    "                StructField(\"mime_type\", StringType(), True)\n",
    "            ]), True)\n",
    "        ]), True),\n",
    "        StructField(\"event\", StructType([\n",
    "            StructField(\"original\", StringType(), True)\n",
    "        ]), True)\n",
    "    ]), True)\n",
    "])\n",
    "\n",
    "# Now you can use this schema to create DataFrames in PySpark\n"
   ]
  },
  {
   "cell_type": "code",
   "execution_count": 4,
   "id": "d2bc3a54-f044-4356-b830-eea616e4274b",
   "metadata": {},
   "outputs": [],
   "source": [
    "file_path = \"/home/jovyan/data_science_challenge/DataEngineerTakeHomeChallenge/projects/datasets/elasticsearch_data-2024.json\"\n",
    "df = spark.read.option(\"multiline\",\"true\").json(file_path, schema=schema)"
   ]
  },
  {
   "cell_type": "code",
   "execution_count": 5,
   "id": "3f266295-b996-4900-8c72-f5d478e47e44",
   "metadata": {},
   "outputs": [
    {
     "data": {
      "text/plain": [
       "505827"
      ]
     },
     "execution_count": 5,
     "metadata": {},
     "output_type": "execute_result"
    }
   ],
   "source": [
    "df.count()"
   ]
  },
  {
   "cell_type": "code",
   "execution_count": 7,
   "id": "83af1059-176e-4121-8282-5b1624e9a7c1",
   "metadata": {},
   "outputs": [
    {
     "name": "stdout",
     "output_type": "stream",
     "text": [
      "+--------------------+-----+--------------------+------+--------------------+--------------------+\n",
      "|              _index|_type|                 _id|_score|            _ignored|             _source|\n",
      "+--------------------+-----+--------------------+------+--------------------+--------------------+\n",
      "|user-data-tol-it-...| _doc|SBHgUZIBbkWET0fvB-a_|   1.0|[document.trace.s...|{2024-10-03T10:14...|\n",
      "|user-data-tol-it-...| _doc|SRHgUZIBbkWET0fvCOZZ|   1.0|[document.trace.s...|{2024-10-03T10:14...|\n",
      "|user-data-tol-it-...| _doc|5BHgUZIBbkWET0fvGuZm|   1.0|[document.trace.s...|{2024-10-03T10:14...|\n",
      "|user-data-tol-it-...| _doc|eOLaUZIBejYkdjOqYp8S|   1.0|[document.trace.s...|{2024-10-03T10:08...|\n",
      "|user-data-tol-it-...| _doc|97HbUZIBYHA1T2qnTNBR|   1.0|[document.trace.s...|{2024-10-03T10:09...|\n",
      "|user-data-tol-it-...| _doc|-LHbUZIBYHA1T2qnTdA_|   1.0|[document.trace.s...|{2024-10-03T10:09...|\n",
      "|user-data-tol-it-...| _doc|BbHbUZIBYHA1T2qnX9Nj|   1.0|[document.trace.s...|{2024-10-03T10:09...|\n",
      "|user-data-tol-it-...| _doc|mrHbUZIBYHA1T2qnhtbV|   1.0|[document.trace.s...|{2024-10-03T10:09...|\n",
      "|user-data-tol-it-...| _doc|m7HbUZIBYHA1T2qnh9bI|   1.0|[document.trace.s...|{2024-10-03T10:09...|\n",
      "|user-data-tol-it-...| _doc|0rHbUZIBYHA1T2qnmdf8|   1.0|[document.trace.s...|{2024-10-03T10:09...|\n",
      "|user-data-tol-it-...| _doc|BLHbUZIBYHA1T2qnrdnM|   1.0|[document.trace.s...|{2024-10-03T10:10...|\n",
      "|user-data-tol-it-...| _doc|BbHbUZIBYHA1T2qnrtmg|   1.0|[document.trace.s...|{2024-10-03T10:10...|\n",
      "|user-data-tol-it-...| _doc|xbHbUZIBYHA1T2qnwdo4|   1.0|[document.trace.s...|{2024-10-03T10:10...|\n",
      "|user-data-tol-it-...| _doc|xrHbUZIBYHA1T2qnwdo4|   1.0|[document.trace.s...|{2024-10-03T10:10...|\n",
      "|user-data-tol-it-...| _doc|x7HbUZIBYHA1T2qnwtoX|   1.0|[document.trace.s...|{2024-10-03T10:10...|\n",
      "|user-data-tol-it-...| _doc|kbHbUZIBYHA1T2qn1N2W|   1.0|[document.trace.s...|{2024-10-03T10:10...|\n",
      "|user-data-tol-it-...| _doc|hrHbUZIBYHA1T2qn6OAp|   1.0|[document.trace.s...|{2024-10-03T10:10...|\n",
      "|user-data-tol-it-...| _doc|h7HbUZIBYHA1T2qn6eAg|   1.0|[document.trace.s...|{2024-10-03T10:10...|\n",
      "|user-data-tol-it-...| _doc|p7HbUZIBYHA1T2qn--Gm|   1.0|[document.trace.s...|{2024-10-03T10:10...|\n",
      "|user-data-tol-it-...| _doc|G7HcUZIBYHA1T2qnD-NW|   1.0|[document.trace.s...|{2024-10-03T10:10...|\n",
      "+--------------------+-----+--------------------+------+--------------------+--------------------+\n",
      "only showing top 20 rows\n",
      "\n"
     ]
    }
   ],
   "source": [
    "df.show() "
   ]
  },
  {
   "cell_type": "code",
   "execution_count": 9,
   "id": "de5b1210-0210-429e-9d1d-3d4cba630dcb",
   "metadata": {},
   "outputs": [
    {
     "name": "stdout",
     "output_type": "stream",
     "text": [
      "root\n",
      " |-- _index: string (nullable = true)\n",
      " |-- _type: string (nullable = true)\n",
      " |-- _id: string (nullable = true)\n",
      " |-- _score: float (nullable = true)\n",
      " |-- _ignored: array (nullable = true)\n",
      " |    |-- element: string (containsNull = true)\n",
      " |-- _source: struct (nullable = true)\n",
      " |    |-- @timestamp: string (nullable = true)\n",
      " |    |-- document: struct (nullable = true)\n",
      " |    |    |-- runId: string (nullable = true)\n",
      " |    |    |-- runName: string (nullable = true)\n",
      " |    |    |-- utcTime: string (nullable = true)\n",
      " |    |    |-- trace: struct (nullable = true)\n",
      " |    |    |    |-- disk: string (nullable = true)\n",
      " |    |    |    |-- %cpu: float (nullable = true)\n",
      " |    |    |    |-- wchar: long (nullable = true)\n",
      " |    |    |    |-- container: string (nullable = true)\n",
      " |    |    |    |-- rchar: long (nullable = true)\n",
      " |    |    |    |-- module: array (nullable = true)\n",
      " |    |    |    |    |-- element: string (containsNull = true)\n",
      " |    |    |    |-- process: string (nullable = true)\n",
      " |    |    |    |-- memory: long (nullable = true)\n",
      " |    |    |    |-- syscw: long (nullable = true)\n",
      " |    |    |    |-- rss: long (nullable = true)\n",
      " |    |    |    |-- inv_ctxt: long (nullable = true)\n",
      " |    |    |    |-- error_action: string (nullable = true)\n",
      " |    |    |    |-- native_id: string (nullable = true)\n",
      " |    |    |    |-- read_bytes: long (nullable = true)\n",
      " |    |    |    |-- attempt: long (nullable = true)\n",
      " |    |    |    |-- vol_ctxt: long (nullable = true)\n",
      " |    |    |    |-- peak_vmem: long (nullable = true)\n",
      " |    |    |    |-- peak_rss: long (nullable = true)\n",
      " |    |    |    |-- workdir: string (nullable = true)\n",
      " |    |    |    |-- queue: string (nullable = true)\n",
      " |    |    |    |-- env: string (nullable = true)\n",
      " |    |    |    |-- script: string (nullable = true)\n",
      " |    |    |    |-- name: string (nullable = true)\n",
      " |    |    |    |-- realtime: long (nullable = true)\n",
      " |    |    |    |-- submit: long (nullable = true)\n",
      " |    |    |    |-- status: string (nullable = true)\n",
      " |    |    |    |-- tag: string (nullable = true)\n",
      " |    |    |    |-- scratch: string (nullable = true)\n",
      " |    |    |    |-- cpus: long (nullable = true)\n",
      " |    |    |    |-- task_id: long (nullable = true)\n",
      " |    |    |    |-- hash: string (nullable = true)\n",
      " |    |    |    |-- %mem: float (nullable = true)\n",
      " |    |    |    |-- exit: long (nullable = true)\n",
      " |    |    |    |-- duration: long (nullable = true)\n",
      " |    |    |    |-- time: long (nullable = true)\n",
      " |    |    |    |-- write_bytes: long (nullable = true)\n",
      " |    |    |    |-- start: long (nullable = true)\n",
      " |    |    |    |-- complete: long (nullable = true)\n",
      " |    |    |    |-- vmem: long (nullable = true)\n",
      " |    |    |    |-- syscr: long (nullable = true)\n",
      " |    |    |-- event: string (nullable = true)\n",
      " |    |-- url: struct (nullable = true)\n",
      " |    |    |-- path: string (nullable = true)\n",
      " |    |    |-- domain: string (nullable = true)\n",
      " |    |-- host: string (nullable = true)\n",
      " |    |-- @version: string (nullable = true)\n",
      " |    |-- user_agent: struct (nullable = true)\n",
      " |    |    |-- original: string (nullable = true)\n",
      " |    |-- http: struct (nullable = true)\n",
      " |    |    |-- version: string (nullable = true)\n",
      " |    |    |-- method: string (nullable = true)\n",
      " |    |    |-- request: struct (nullable = true)\n",
      " |    |    |    |-- body: struct (nullable = true)\n",
      " |    |    |    |    |-- bytes: string (nullable = true)\n",
      " |    |    |    |-- mime_type: string (nullable = true)\n",
      " |    |-- event: struct (nullable = true)\n",
      " |    |    |-- original: string (nullable = true)\n",
      "\n"
     ]
    }
   ],
   "source": [
    "df.printSchema()"
   ]
  },
  {
   "cell_type": "code",
   "execution_count": 8,
   "id": "ef037e5f-5c31-485f-a82a-7241724bfcfa",
   "metadata": {},
   "outputs": [],
   "source": [
    "df.write.parquet(\"/home/jovyan/data_science_challenge/DataEngineerTakeHomeChallenge/projects/datasets/elastic_search/elasticsearch_data-2024.parquet\")"
   ]
  }
 ],
 "metadata": {
  "kernelspec": {
   "display_name": "Python 3 (ipykernel)",
   "language": "python",
   "name": "python3"
  },
  "language_info": {
   "codemirror_mode": {
    "name": "ipython",
    "version": 3
   },
   "file_extension": ".py",
   "mimetype": "text/x-python",
   "name": "python",
   "nbconvert_exporter": "python",
   "pygments_lexer": "ipython3",
   "version": "3.11.6"
  }
 },
 "nbformat": 4,
 "nbformat_minor": 5
}
