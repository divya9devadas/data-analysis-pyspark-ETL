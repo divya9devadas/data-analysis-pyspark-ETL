{
 "cells": [
  {
   "cell_type": "code",
   "execution_count": 14,
   "id": "7a6d84ec-54a1-4b10-a9e3-ad22c1ec95e9",
   "metadata": {},
   "outputs": [],
   "source": [
    "from pyspark.sql import SparkSession\n",
    "from pyspark.sql.functions import regexp_replace, col, when"
   ]
  },
  {
   "cell_type": "code",
   "execution_count": 2,
   "id": "4a7953ea-7917-4d8b-a833-910d6b554bf9",
   "metadata": {},
   "outputs": [],
   "source": [
    "# Create a Spark session\n",
    "spark = (SparkSession\n",
    "         .builder\n",
    "         .appName(\"Coffee Survey\")\n",
    "         .getOrCreate()\n",
    "        )"
   ]
  },
  {
   "cell_type": "code",
   "execution_count": 3,
   "id": "246c8e4c-27a8-4312-bbba-827093380531",
   "metadata": {},
   "outputs": [],
   "source": [
    "coffee_file_path = \"/home/jovyan/data_science_challenge/DataEngineerTakeHomeChallenge/projects/datasets/coffee_survey.csv\"\n",
    "\n",
    "# Read data from a CSV file\n",
    "coffee_df = spark.read.option(\"header\", \"true\").csv(coffee_file_path)"
   ]
  },
  {
   "cell_type": "code",
   "execution_count": 4,
   "id": "a11eaa63-241d-4ddc-ae80-0171130b5d63",
   "metadata": {},
   "outputs": [
    {
     "name": "stdout",
     "output_type": "stream",
     "text": [
      "+-------------+---------------+----+-----------+-------------------------------------------+----------+--------+--------------+-------------------+----------------+-----------------------------------+---------------+-----+---------+-------+--------+-----------+--------+---------+-------------------+----------------+----------------------------+--------------+-------------------+----------------+----------------------------+--------------+-------------------+----------------+----------------------------+--------------+-------------------+----------------+----------------------------+--------------+----------+---------+--------------+---+-----------+---------+---------------+-----+-----------+---------+------------+----------+---------------+---------------+------+--------------+---------------+--------------+----------------------+-----------------+---------------+---------------------+\n",
      "|submission_id|age            |cups|where_drink|brew                                       |brew_other|purchase|purchase_other|favorite           |favorite_specify|additions                          |additions_other|dairy|sweetener|style  |strength|roast_level|caffeine|expertise|coffee_a_bitterness|coffee_a_acidity|coffee_a_personal_preference|coffee_a_notes|coffee_b_bitterness|coffee_b_acidity|coffee_b_personal_preference|coffee_b_notes|coffee_c_bitterness|coffee_c_acidity|coffee_c_personal_preference|coffee_c_notes|coffee_d_bitterness|coffee_d_acidity|coffee_d_personal_preference|coffee_d_notes|prefer_abc|prefer_ad|prefer_overall|wfh|total_spend|why_drink|why_drink_other|taste|know_source|most_paid|most_willing|value_cafe|spent_equipment|value_equipment|gender|gender_specify|education_level|ethnicity_race|ethnicity_race_specify|employment_status|number_children|political_affiliation|\n",
      "+-------------+---------------+----+-----------+-------------------------------------------+----------+--------+--------------+-------------------+----------------+-----------------------------------+---------------+-----+---------+-------+--------+-----------+--------+---------+-------------------+----------------+----------------------------+--------------+-------------------+----------------+----------------------------+--------------+-------------------+----------------+----------------------------+--------------+-------------------+----------------+----------------------------+--------------+----------+---------+--------------+---+-----------+---------+---------------+-----+-----------+---------+------------+----------+---------------+---------------+------+--------------+---------------+--------------+----------------------+-----------------+---------------+---------------------+\n",
      "|gMR29l       |18-24 years old|NA  |NA         |NA                                         |NA        |NA      |NA            |Regular drip coffee|NA              |No - just black                    |NA             |NA   |NA       |Complex|NA      |NA         |NA      |NA       |NA                 |NA              |NA                          |NA            |NA                 |NA              |NA                          |NA            |NA                 |NA              |NA                          |NA            |NA                 |NA              |NA                          |NA            |NA        |NA       |NA            |NA |NA         |NA       |NA             |NA   |NA         |NA       |NA          |NA        |NA             |NA             |NA    |NA            |NA             |NA            |NA                    |NA               |NA             |NA                   |\n",
      "|BkPN0e       |25-34 years old|NA  |NA         |Pod/capsule machine (e.g. Keurig/Nespresso)|NA        |NA      |NA            |Iced coffee        |NA              |Sugar or sweetener, No - just black|NA             |NA   |NA       |Light  |NA      |NA         |NA      |NA       |NA                 |NA              |NA                          |NA            |NA                 |NA              |NA                          |NA            |NA                 |NA              |NA                          |NA            |NA                 |NA              |NA                          |NA            |NA        |NA       |NA            |NA |NA         |NA       |NA             |NA   |NA         |NA       |NA          |NA        |NA             |NA             |NA    |NA            |NA             |NA            |NA                    |NA               |NA             |NA                   |\n",
      "+-------------+---------------+----+-----------+-------------------------------------------+----------+--------+--------------+-------------------+----------------+-----------------------------------+---------------+-----+---------+-------+--------+-----------+--------+---------+-------------------+----------------+----------------------------+--------------+-------------------+----------------+----------------------------+--------------+-------------------+----------------+----------------------------+--------------+-------------------+----------------+----------------------------+--------------+----------+---------+--------------+---+-----------+---------+---------------+-----+-----------+---------+------------+----------+---------------+---------------+------+--------------+---------------+--------------+----------------------+-----------------+---------------+---------------------+\n",
      "only showing top 2 rows\n",
      "\n"
     ]
    }
   ],
   "source": [
    "# Show Coffee Survey DataFrame\n",
    "coffee_df.show(n=2, truncate=False)"
   ]
  },
  {
   "cell_type": "code",
   "execution_count": 5,
   "id": "c3c697fb-d277-4e6e-93a8-3b268bfb1a73",
   "metadata": {},
   "outputs": [
    {
     "name": "stdout",
     "output_type": "stream",
     "text": [
      "root\n",
      " |-- submission_id: string (nullable = true)\n",
      " |-- age: string (nullable = true)\n",
      " |-- cups: string (nullable = true)\n",
      " |-- where_drink: string (nullable = true)\n",
      " |-- brew: string (nullable = true)\n",
      " |-- brew_other: string (nullable = true)\n",
      " |-- purchase: string (nullable = true)\n",
      " |-- purchase_other: string (nullable = true)\n",
      " |-- favorite: string (nullable = true)\n",
      " |-- favorite_specify: string (nullable = true)\n",
      " |-- additions: string (nullable = true)\n",
      " |-- additions_other: string (nullable = true)\n",
      " |-- dairy: string (nullable = true)\n",
      " |-- sweetener: string (nullable = true)\n",
      " |-- style: string (nullable = true)\n",
      " |-- strength: string (nullable = true)\n",
      " |-- roast_level: string (nullable = true)\n",
      " |-- caffeine: string (nullable = true)\n",
      " |-- expertise: string (nullable = true)\n",
      " |-- coffee_a_bitterness: string (nullable = true)\n",
      " |-- coffee_a_acidity: string (nullable = true)\n",
      " |-- coffee_a_personal_preference: string (nullable = true)\n",
      " |-- coffee_a_notes: string (nullable = true)\n",
      " |-- coffee_b_bitterness: string (nullable = true)\n",
      " |-- coffee_b_acidity: string (nullable = true)\n",
      " |-- coffee_b_personal_preference: string (nullable = true)\n",
      " |-- coffee_b_notes: string (nullable = true)\n",
      " |-- coffee_c_bitterness: string (nullable = true)\n",
      " |-- coffee_c_acidity: string (nullable = true)\n",
      " |-- coffee_c_personal_preference: string (nullable = true)\n",
      " |-- coffee_c_notes: string (nullable = true)\n",
      " |-- coffee_d_bitterness: string (nullable = true)\n",
      " |-- coffee_d_acidity: string (nullable = true)\n",
      " |-- coffee_d_personal_preference: string (nullable = true)\n",
      " |-- coffee_d_notes: string (nullable = true)\n",
      " |-- prefer_abc: string (nullable = true)\n",
      " |-- prefer_ad: string (nullable = true)\n",
      " |-- prefer_overall: string (nullable = true)\n",
      " |-- wfh: string (nullable = true)\n",
      " |-- total_spend: string (nullable = true)\n",
      " |-- why_drink: string (nullable = true)\n",
      " |-- why_drink_other: string (nullable = true)\n",
      " |-- taste: string (nullable = true)\n",
      " |-- know_source: string (nullable = true)\n",
      " |-- most_paid: string (nullable = true)\n",
      " |-- most_willing: string (nullable = true)\n",
      " |-- value_cafe: string (nullable = true)\n",
      " |-- spent_equipment: string (nullable = true)\n",
      " |-- value_equipment: string (nullable = true)\n",
      " |-- gender: string (nullable = true)\n",
      " |-- gender_specify: string (nullable = true)\n",
      " |-- education_level: string (nullable = true)\n",
      " |-- ethnicity_race: string (nullable = true)\n",
      " |-- ethnicity_race_specify: string (nullable = true)\n",
      " |-- employment_status: string (nullable = true)\n",
      " |-- number_children: string (nullable = true)\n",
      " |-- political_affiliation: string (nullable = true)\n",
      "\n"
     ]
    }
   ],
   "source": [
    "# Print schema of dataFrame\n",
    "coffee_df.printSchema()"
   ]
  },
  {
   "cell_type": "code",
   "execution_count": 6,
   "id": "aab8b327-ca30-4cfe-af49-4417548141ee",
   "metadata": {},
   "outputs": [
    {
     "data": {
      "text/plain": [
       "4776"
      ]
     },
     "execution_count": 6,
     "metadata": {},
     "output_type": "execute_result"
    }
   ],
   "source": [
    "# Count the number of rows in the DataFrame\n",
    "coffee_df.count()"
   ]
  },
  {
   "cell_type": "code",
   "execution_count": 12,
   "id": "140b1000-9e94-47ba-96cc-68156d82b209",
   "metadata": {},
   "outputs": [
    {
     "name": "stdout",
     "output_type": "stream",
     "text": [
      "+-------------+------+----+-----------------------------+---------------------------------------------------------+-------------------+---------+-----------+---------------+-----------+-------------+---------+----------+---------+--------------------------+-----------+--------------------------------------------------------------------------------------+-----+---------+------------+----------+------+------------------+---------------+\n",
      "|submission_id|age   |cups|where_drink                  |brew                                                     |favorite           |sweetener|style      |strength       |roast_level|caffeine     |expertise|prefer_abc|prefer_ad|wfh                       |total_spend|why_drink                                                                             |taste|most_paid|most_willing|value_cafe|gender|employment_status |number_children|\n",
      "+-------------+------+----+-----------------------------+---------------------------------------------------------+-------------------+---------+-----------+---------------+-----------+-------------+---------+----------+---------+--------------------------+-----------+--------------------------------------------------------------------------------------+-----+---------+------------+----------+------+------------------+---------------+\n",
      "|AlbYao       |18-24 |2   |At the office, At home       |Pod/capsule machine (e.g. Keurig/Nespresso), French press|Latte              |NA       |Full Bodied|Somewhat strong|Medium     |Full caffeine|7        |NA        |NA       |NA                        |NA         |NA                                                                                    |NA   |NA       |NA          |NA        |NA    |NA                |NA             |\n",
      "|24x9o9       |35-44 |1   |At home, At the office       |Espresso                                                 |Other              |NA       |Sweet      |Very strong    |Medium     |Full caffeine|4        |Coffee A  |Coffee A |I do a mix of both        |40-60      |It tastes good, I need the ritual                                                     |Yes  |10-15    |15-20       |Yes       |Male  |Employed full-time|None           |\n",
      "|1r2oEM       |45-54 |4   |At home                      |Coffee brewing machine (e.g. Mr. Coffee)                 |Regular drip coffee|NA       |Bold       |Medium         |Medium     |Full caffeine|4        |Coffee C  |Coffee A |I primarily work from home|<20        |It tastes good, I need the ritual, I need the caffeine, It makes me go to the bathroom|Yes  |6-8      |6-8         |No        |Male  |Employed full-time|3              |\n",
      "|YZzldq       |18-24 |1   |On the go, At home, At a cafe|Pod/capsule machine (e.g. Keurig/Nespresso)              |Latte              |NA       |Chocolatey |Medium         |Medium     |Full caffeine|5        |Coffee C  |Coffee D |I primarily work in person|20-40      |It tastes good, I need the caffeine                                                   |Yes  |6-8      |6-8         |Yes       |Female|Employed full-time|None           |\n",
      "|qbE1Yk       |25-34 |2   |At home                      |Pour over                                                |Pourover           |NA       |Full Bodied|Somewhat strong|Medium     |Full caffeine|6        |Coffee C  |Coffee A |I primarily work from home|20-40      |It tastes good, I need the caffeine, I need the ritual                                |Yes  |4-6      |6-8         |Yes       |Male  |Employed full-time|None           |\n",
      "+-------------+------+----+-----------------------------+---------------------------------------------------------+-------------------+---------+-----------+---------------+-----------+-------------+---------+----------+---------+--------------------------+-----------+--------------------------------------------------------------------------------------+-----+---------+------------+----------+------+------------------+---------------+\n",
      "only showing top 5 rows\n",
      "\n"
     ]
    }
   ],
   "source": [
    "# List of columns to drop from the DataFrame\n",
    "columns_to_drop = [\"brew_other\", \"purchase\", \"purchase_other\", \"favorite_specify\", \"additions\", \"additions_other\", \"dairy\", \"coffee_a_bitterness\", \"coffee_a_acidity\", \n",
    "                     \"coffee_a_personal_preference\", \"coffee_a_notes\", \"coffee_b_bitterness\", \"coffee_b_acidity\", \"coffee_b_personal_preference\", \n",
    "                     \"coffee_b_notes\", \"coffee_c_bitterness\", \"coffee_c_acidity\", \"coffee_c_personal_preference\", \"coffee_c_notes\", \n",
    "                     \"coffee_d_bitterness\", \"coffee_d_acidity\", \"coffee_d_personal_preference\", \"coffee_d_notes\", \"prefer_overall\", \n",
    "                     \"why_drink_other\", \"know_source\", \"spent_equipment\", \"value_equipment\", \"gender_specify\", \"education_level\", \n",
    "                     \"ethnicity_race\", \"ethnicity_race_specify\", \"political_affiliation\"]\n",
    "\n",
    "# Drop the specified columns from the DataFrame\n",
    "coffee_df = coffee_df.drop(*columns_to_drop)\n",
    "\n",
    "# Drop duplicate rows from the DataFrame\n",
    "coffee_df = coffee_df.dropDuplicates()\n",
    "\n",
    "# Drop rows with any missing values\n",
    "coffee_df = coffee_df.dropna()\n",
    "\n",
    "# Remove non-numeric characters using regular expression\n",
    "coffee_df = (coffee_df.withColumn(\"age\", regexp_replace(col(\"age\"), \"years old\", \"\"))\n",
    "                      .withColumn(\"total_spend\", regexp_replace(col(\"total_spend\"), \"\\\\$\", \"\"))\n",
    "                      .withColumn(\"most_paid\", regexp_replace(col(\"most_paid\"), \"\\\\$\", \"\"))\n",
    "                      .withColumn(\"most_willing\", regexp_replace(col(\"most_willing\"), \"\\\\$\", \"\")))\n",
    "\n",
    "# Show only first 5 rows of the DataFrame after droping specific columns\n",
    "coffee_df.show(n=5, truncate=False)"
   ]
  },
  {
   "cell_type": "code",
   "execution_count": 16,
   "id": "1567df40-9189-45bc-8329-5067b2c26fdf",
   "metadata": {},
   "outputs": [
    {
     "name": "stdout",
     "output_type": "stream",
     "text": [
      "+----+\n",
      "|cups|\n",
      "+----+\n",
      "|   2|\n",
      "|   1|\n",
      "|   4|\n",
      "|   1|\n",
      "|   2|\n",
      "|   1|\n",
      "|   1|\n",
      "|   1|\n",
      "|   0|\n",
      "|   2|\n",
      "+----+\n",
      "only showing top 10 rows\n",
      "\n"
     ]
    }
   ],
   "source": [
    "# Convert 'cups' column to numeric values\n",
    "# Other values are cast to integers\n",
    "coffee_df = coffee_df.withColumn(\"cups\",\n",
    "                 when(coffee_df[\"cups\"] == \"Less than 1\", 0)\n",
    "                 .when(coffee_df[\"cups\"] == \"More than 4\", 5)\n",
    "                 .otherwise(coffee_df[\"cups\"].cast(\"int\")))\n",
    "\n",
    "# Show 'cups' column after converting to numeric values\n",
    "coffee_df.select(\"cups\").show(10)"
   ]
  },
  {
   "cell_type": "code",
   "execution_count": 17,
   "id": "13768b30-f1e7-494a-a1cc-2247b7d0b267",
   "metadata": {},
   "outputs": [
    {
     "name": "stdout",
     "output_type": "stream",
     "text": [
      "+-----------+\n",
      "|total_spend|\n",
      "+-----------+\n",
      "|20-40      |\n",
      "|0          |\n",
      "|100-120    |\n",
      "|60-80      |\n",
      "|80-100     |\n",
      "|10-20      |\n",
      "|40-60      |\n",
      "+-----------+\n",
      "\n"
     ]
    }
   ],
   "source": [
    "# List of non-numeric values that should be converted to 0 in 'total_spend' column\n",
    "non_numeric_values = [\n",
    "    \"Really disliked this one! Tasted like overripe, starting to ferment apples. Doesn't taste like coffee. Too sweet, too creamy, unpleasant texture.\",\n",
    "    \"NA\",\n",
    "    \"Coffee A\",\n",
    "    \" went through a phase when cooling where it reminded me of crunchberries from the serial? strawberry flavored things\",\n",
    "    \"I primarily work from home\",\n",
    "    \"I do a mix of both\",\n",
    "    \"Fruit, Natural, Blackberry?, Blueberry, well balanced\",\n",
    "    \"Coffee D\",\n",
    "    \"I primarily work in person\",\n",
    "    \"Coffee B\",\n",
    "    \"Coffee C\"\n",
    "]\n",
    "\n",
    "# Convert non-numeric values in 'total_spend' column to '0'\n",
    "# Convert '>100' in 'total_spend' column to '100-120'\n",
    "# Convert '<20' in 'total_spend' column to '10-20'\n",
    "coffee_df = coffee_df.withColumn(\"total_spend\", \n",
    "                                  when(col(\"total_spend\").isin(non_numeric_values), 0)\n",
    "                                 .when(col(\"total_spend\") == \">100\", \"100-120\")\n",
    "                                 .when(col(\"total_spend\") == \"<20\", \"10-20\")\n",
    "                                 .otherwise(col(\"total_spend\")))\n",
    "\n",
    "# Show 'total_spend' column after removing non-numeric values\n",
    "coffee_df.select(\"total_spend\").distinct().show(truncate=False)"
   ]
  },
  {
   "cell_type": "code",
   "execution_count": 18,
   "id": "6b590e8e-45b5-4d89-97f0-ad9f0790d1ee",
   "metadata": {},
   "outputs": [
    {
     "name": "stdout",
     "output_type": "stream",
     "text": [
      "+--------------------------+\n",
      "|wfh                       |\n",
      "+--------------------------+\n",
      "|NA                        |\n",
      "|I primarily work from home|\n",
      "|I do a mix of both        |\n",
      "|I primarily work in person|\n",
      "+--------------------------+\n",
      "\n"
     ]
    }
   ],
   "source": [
    "# List of non_wfh values that should be converted to NA in 'wfh' column\n",
    "non_wfh = [\n",
    "    \"Coffee A\",\n",
    "    \"Coffee D\",\n",
    "    \"Coffee B\",\n",
    "    \"1\",\n",
    "    \"4\",\n",
    "    \"Coffee C\",\n",
    "    \" and I knew which one would like it and hate it the second I tasted. Love the strong berry notes to it\"\n",
    "]\n",
    "\n",
    "# Convert non_wfh values in 'wfh' column to 'NA'\n",
    "coffee_df = coffee_df.withColumn(\"wfh\", \n",
    "                                  when(col(\"wfh\").isin(non_wfh), \"NA\")\n",
    "                                 .otherwise(col(\"wfh\")))   \n",
    "\n",
    "# Show 'wfh' column after removing unrelated values\n",
    "coffee_df.select(\"wfh\").distinct().show(n = 10, truncate=False)"
   ]
  },
  {
   "cell_type": "code",
   "execution_count": 19,
   "id": "1386ca09-cd36-4c6c-85d3-f6864d5193f7",
   "metadata": {},
   "outputs": [
    {
     "name": "stdout",
     "output_type": "stream",
     "text": [
      "+---------------------------------------------------------------------------------------------+\n",
      "|why_drink                                                                                    |\n",
      "+---------------------------------------------------------------------------------------------+\n",
      "|It tastes good, I need the caffeine, I need the ritual, It makes me go to the bathroom       |\n",
      "|It tastes good, I need the caffeine                                                          |\n",
      "|It makes me go to the bathroom                                                               |\n",
      "|It tastes good, I need the caffeine, It makes me go to the bathroom, I need the ritual, Other|\n",
      "|It makes me go to the bathroom, I need the ritual, I need the caffeine, It tastes good       |\n",
      "|I need the caffeine, Other                                                                   |\n",
      "|I need the caffeine, I need the ritual                                                       |\n",
      "|It tastes good, It makes me go to the bathroom, I need the caffeine, I need the ritual       |\n",
      "|I need the ritual, Other                                                                     |\n",
      "|It tastes good, It makes me go to the bathroom, Other                                        |\n",
      "|It tastes good, Other, I need the ritual                                                     |\n",
      "|It tastes good, I need the caffeine, It makes me go to the bathroom                          |\n",
      "|I need the caffeine, It makes me go to the bathroom, Other                                   |\n",
      "|NA                                                                                           |\n",
      "|I need the ritual, It makes me go to the bathroom                                            |\n",
      "|It tastes good, I need the caffeine, I need the ritual, It makes me go to the bathroom, Other|\n",
      "|I need the ritual, It tastes good, It makes me go to the bathroom                            |\n",
      "|I need the ritual, It tastes good                                                            |\n",
      "|It tastes good, Other                                                                        |\n",
      "|It tastes good, It makes me go to the bathroom                                               |\n",
      "+---------------------------------------------------------------------------------------------+\n",
      "only showing top 20 rows\n",
      "\n"
     ]
    }
   ],
   "source": [
    "# Convert 'Coffee A' values in 'why_drink' column to 'NA'\n",
    "coffee_df = coffee_df.withColumn(\"why_drink\",\n",
    "                                 when(col(\"why_drink\") == \"Coffee A\", \"NA\")\n",
    "                                 .when(col(\"why_drink\") == \"$40-$60\", \"NA\")\n",
    "                                 .otherwise(col(\"why_drink\")))\n",
    "\n",
    "# Show 'why_drink' column after removing 'Coffee A' values\n",
    "coffee_df.select(\"why_drink\").distinct().show(truncate=False)"
   ]
  },
  {
   "cell_type": "code",
   "execution_count": 20,
   "id": "cfb1a3ea-8064-4b7b-92ef-44e20b1ebd4e",
   "metadata": {},
   "outputs": [
    {
     "name": "stdout",
     "output_type": "stream",
     "text": [
      "+-----+\n",
      "|taste|\n",
      "+-----+\n",
      "|NA   |\n",
      "|No   |\n",
      "|Yes  |\n",
      "+-----+\n",
      "\n"
     ]
    }
   ],
   "source": [
    "# List of values to be coverted to 'Yes'\n",
    "yes_values = [\n",
    "    \"It tastes good, I need the caffeine, I need the ritual, It makes me go to the bathroom\",\n",
    "    \"It tastes good, I need the caffeine\",\n",
    "    \"Coffee A\",\n",
    "    \"It tastes good\",\n",
    "    \"Coffee D\",\n",
    "    \"It tastes good, I need the ritual, Other\",\n",
    "    \"It tastes good, I need the ritual, It makes me go to the bathroom, I need the caffeine\",\n",
    "    \"It tastes good, I need the caffeine, I need the ritual\",\n",
    "    \"Coffee C\",\n",
    "    \"It tastes good, I need the ritual\"\n",
    "]\n",
    "\n",
    "# List of values to be coverted to 'No'\n",
    "no_value =[\n",
    "    \"$20-$40\",\n",
    "    \"$80-$100\",\n",
    "    \"$40-$60\"\n",
    "]\n",
    "\n",
    "# Convert related values in 'taste' column to 'Yes'\n",
    "# Convert non-related values in 'taste' column to 'No'  \n",
    "coffee_df = coffee_df.withColumn(\"taste\", \n",
    "                                  when(col(\"taste\").isin(yes_values), \"Yes\")\n",
    "                                 .when(col(\"taste\").isin(no_value), \"No\")\n",
    "                                 .otherwise(col(\"taste\")))     \n",
    "\n",
    "# Show 'taste' column after converting specific values respective 'Yes' & 'No'\n",
    "coffee_df.select(\"taste\").distinct().show(truncate=False)"
   ]
  },
  {
   "cell_type": "code",
   "execution_count": null,
   "id": "e0872d74-f823-4b9b-b71b-f4cc20510892",
   "metadata": {},
   "outputs": [],
   "source": []
  }
 ],
 "metadata": {
  "kernelspec": {
   "display_name": "Python 3 (ipykernel)",
   "language": "python",
   "name": "python3"
  },
  "language_info": {
   "codemirror_mode": {
    "name": "ipython",
    "version": 3
   },
   "file_extension": ".py",
   "mimetype": "text/x-python",
   "name": "python",
   "nbconvert_exporter": "python",
   "pygments_lexer": "ipython3",
   "version": "3.11.6"
  }
 },
 "nbformat": 4,
 "nbformat_minor": 5
}
