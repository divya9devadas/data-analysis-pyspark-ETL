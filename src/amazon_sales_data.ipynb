{
 "cells": [
  {
   "cell_type": "code",
   "execution_count": 1,
   "id": "9f131d4a-d984-44b2-ab21-74b900a4c61e",
   "metadata": {},
   "outputs": [],
   "source": [
    "from pyspark.sql import SparkSession\n",
    "\n",
    "spark = (SparkSession\n",
    "         .builder\n",
    "         .appName(\"Amazon sales\")\n",
    "         .getOrCreate())"
   ]
  },
  {
   "cell_type": "code",
   "execution_count": 2,
   "id": "ae60c26c-d37d-4a4d-b787-b41a75ba9140",
   "metadata": {},
   "outputs": [],
   "source": [
    "file_path = \"datasets/amazon.csv\""
   ]
  },
  {
   "cell_type": "code",
   "execution_count": 3,
   "id": "8ad05da5-4cb7-483b-83c2-92c8853aa3ec",
   "metadata": {},
   "outputs": [],
   "source": [
    "amz_sales_data = spark.read.option(\"header\", \"true\").csv(file_path)"
   ]
  },
  {
   "cell_type": "code",
   "execution_count": 4,
   "id": "7a7b363c-af0e-4ddc-af7d-31ecd2ba2984",
   "metadata": {},
   "outputs": [
    {
     "name": "stdout",
     "output_type": "stream",
     "text": [
      "+----------+--------------------+--------------------+----------------+------------+-------------------+------+------------+--------------------+--------------------+--------------------+--------------------+--------------------+--------------------+--------------------+--------------------+\n",
      "|product_id|        product_name|            category|discounted_price|actual_price|discount_percentage|rating|rating_count|       about_product|             user_id|           user_name|           review_id|        review_title|      review_content|            img_link|        product_link|\n",
      "+----------+--------------------+--------------------+----------------+------------+-------------------+------+------------+--------------------+--------------------+--------------------+--------------------+--------------------+--------------------+--------------------+--------------------+\n",
      "|B07JW9H4J1|Wayona Nylon Brai...|Computers&Accesso...|            ₹399|      ₹1,099|                64%|   4.2|      24,269|High Compatibilit...|AG3D6O4STAQKAY2UV...|Manav,Adarsh gupt...|R3HXWT0LRP0NMF,R2...|Satisfied,Chargin...|Looks durable Cha...|https://m.media-a...|https://www.amazo...|\n",
      "|B098NS6PVG|Ambrane Unbreakab...|Computers&Accesso...|            ₹199|        ₹349|                43%|   4.0|      43,994|Compatible with a...|AECPFYFQVRUWC3KGN...|ArdKn,Nirbhay kum...|RGIQEG07R9HS2,R1S...|A Good Braided Ca...|I ordered this ca...|https://m.media-a...|https://www.amazo...|\n",
      "+----------+--------------------+--------------------+----------------+------------+-------------------+------+------------+--------------------+--------------------+--------------------+--------------------+--------------------+--------------------+--------------------+--------------------+\n",
      "only showing top 2 rows\n",
      "\n"
     ]
    }
   ],
   "source": [
    "amz_sales_data.show(2)"
   ]
  },
  {
   "cell_type": "code",
   "execution_count": 5,
   "id": "d88e5455-1162-4d6f-b809-6493335a9fa4",
   "metadata": {},
   "outputs": [
    {
     "name": "stdout",
     "output_type": "stream",
     "text": [
      "root\n",
      " |-- product_id: string (nullable = true)\n",
      " |-- product_name: string (nullable = true)\n",
      " |-- category: string (nullable = true)\n",
      " |-- discounted_price: string (nullable = true)\n",
      " |-- actual_price: string (nullable = true)\n",
      " |-- discount_percentage: string (nullable = true)\n",
      " |-- rating: string (nullable = true)\n",
      " |-- rating_count: string (nullable = true)\n",
      " |-- about_product: string (nullable = true)\n",
      " |-- user_id: string (nullable = true)\n",
      " |-- user_name: string (nullable = true)\n",
      " |-- review_id: string (nullable = true)\n",
      " |-- review_title: string (nullable = true)\n",
      " |-- review_content: string (nullable = true)\n",
      " |-- img_link: string (nullable = true)\n",
      " |-- product_link: string (nullable = true)\n",
      "\n"
     ]
    }
   ],
   "source": [
    "amz_sales_data.printSchema()"
   ]
  },
  {
   "cell_type": "code",
   "execution_count": 6,
   "id": "66bbf04b-369b-4cd2-99de-68e69e023c03",
   "metadata": {},
   "outputs": [
    {
     "data": {
      "text/plain": [
       "1465"
      ]
     },
     "execution_count": 6,
     "metadata": {},
     "output_type": "execute_result"
    }
   ],
   "source": [
    "amz_sales_data.count()"
   ]
  },
  {
   "cell_type": "code",
   "execution_count": 7,
   "id": "42d31fe8-70af-408e-9f76-94bb709e7990",
   "metadata": {},
   "outputs": [],
   "source": [
    "check_duplicates = (amz_sales_data\n",
    "                  .groupBy(\"product_id\", \"product_name\", \"category\", \"discounted_price\", \"actual_price\",\n",
    "                           \"discount_percentage\", \"rating\", \"rating_count\", \"about_product\", \"user_id\",\n",
    "                           \"user_name\", \"review_id\", \"review_title\", \"review_content\", \"img_link\", \"product_link\")\n",
    "                  .count()\n",
    "                  .filter(\"count > 1\")\n",
    "                  .orderBy(\"count\", assending=False))"
   ]
  },
  {
   "cell_type": "code",
   "execution_count": 8,
   "id": "7f75f27c-fc94-4c8e-9b9c-6626906fe21b",
   "metadata": {},
   "outputs": [
    {
     "name": "stdout",
     "output_type": "stream",
     "text": [
      "+----------+--------------------+--------------------+----------------+------------+--------------------+--------------------+--------------------+--------------------+--------------------+--------------------+--------------------+--------------------+--------------------+--------------------+--------------------+-----+\n",
      "|product_id|        product_name|            category|discounted_price|actual_price| discount_percentage|              rating|        rating_count|       about_product|             user_id|           user_name|           review_id|        review_title|      review_content|            img_link|        product_link|count|\n",
      "+----------+--------------------+--------------------+----------------+------------+--------------------+--------------------+--------------------+--------------------+--------------------+--------------------+--------------------+--------------------+--------------------+--------------------+--------------------+-----+\n",
      "|B09NVPSCQT|\"Noise ColorFit P...|     60 Sports Modes| 150 Watch Faces| Fast Charge|                Spo2|              Stress|               Sleep| Heart Rate Monit...|Electronics|Weara...|              ₹1,599|              ₹3,999|                 60%|                 4.0|              30,254|\"1.69\"\" grand dis...|    2|\n",
      "|B0B9BXKBC7|WeCool S5 Long Se...|Electronics|Mobil...|          ₹1,799|      ₹3,999|                 55%|                 4.6|                 245|\"64\"\" Tall Cell P...| the phone selfie...| can be adjusted ...| this selfie stic...| which can be qui...| and the mount ar...| the long selfie ...| or Backpack with...|    2|\n",
      "|B0949SBKMP|\"boAt Flash Editi...|    170+ Watch Faces|   Sleep Monitor|     Gesture| Camera & Music C...| IP68 & 7 Days Ba...|Electronics|Weara...|              ₹1,799|              ₹6,990|                 74%|                 4.0|              26,880|\"1.3\"\"(33mm) LCD ...| calories burnt a...| Working Time - U...|    2|\n",
      "|B08BQ947H3|LIRAMARK Webcam C...|Computers&Accesso...|            ₹149|        ₹149|                  0%|                 4.3|              10,833|Cool Gadget: Prot...|AFF3MID2VKCRG3UPI...|Vishal Bhardwaj,P...|R18D9LZAYX9JSY,R2...|Merges with the d...|\"PRODUCTLIRAMARK ...| it is not a prod...| and never try th...|    2|\n",
      "|B09KGV7WSV|KINGONE Upgraded ...|Electronics|Mobil...|          ₹2,099|      ₹5,999|                 65%|                 4.3|              17,129|\"25MIN FAST CHARG...|   No need Bluetooth| just tap the end...| Avoiding the pro...|  iPad Pro (3/4 Gen)|    iPad Pro 11 inch|  iPad Air (3/4 Gen)| iPad mini (3rd g...|    2|\n",
      "|B07P681N66|TP-Link AC600 600...|Computers&Accesso...|          ₹1,199|      ₹2,199|                 45%|                 4.4|              24,780|High-Speed Wi-Fi ...|AHDFR3PDKEBV72HXR...|Anonymous,Sugam A...|R2GUL8IL005EGF,R3...|Works flawlessly ...|\"I am using this ...| use lsusb and fi...| this is probably...|    2|\n",
      "+----------+--------------------+--------------------+----------------+------------+--------------------+--------------------+--------------------+--------------------+--------------------+--------------------+--------------------+--------------------+--------------------+--------------------+--------------------+-----+\n",
      "\n"
     ]
    }
   ],
   "source": [
    "check_duplicates.show()"
   ]
  },
  {
   "cell_type": "code",
   "execution_count": 9,
   "id": "7f73528d-fe1d-424a-97cc-24a9287d7f6c",
   "metadata": {},
   "outputs": [
    {
     "name": "stdout",
     "output_type": "stream",
     "text": [
      "Count before removing duplicates: 1465\n",
      "Count after removing duplicates: 1459\n"
     ]
    }
   ],
   "source": [
    "amz_sales_cdata = amz_sales_data.dropDuplicates([\"product_id\", \"product_name\", \"category\", \"discounted_price\", \"actual_price\",\n",
    "                           \"discount_percentage\", \"rating\", \"rating_count\", \"about_product\", \"user_id\",\n",
    "                           \"user_name\", \"review_id\", \"review_title\", \"review_content\", \"img_link\", \"product_link\"])\n",
    "print(\"Count before removing duplicates: \"+ str(amz_sales_data.count()))\n",
    "print(\"Count after removing duplicates: \"+ str(amz_sales_cdata.count()))"
   ]
  },
  {
   "cell_type": "code",
   "execution_count": 10,
   "id": "62ff73fd-f705-463f-b5b4-02bf46f2c769",
   "metadata": {},
   "outputs": [
    {
     "data": {
      "text/plain": [
       "DataFrame[product_id: string, product_name: string, category: string, discounted_price: string, actual_price: string, discount_percentage: string, rating: string, rating_count: string, about_product: string, user_id: string, user_name: string, review_id: string, review_title: string, review_content: string, img_link: string, product_link: string]"
      ]
     },
     "execution_count": 10,
     "metadata": {},
     "output_type": "execute_result"
    }
   ],
   "source": [
    "amz_sales_cdata.dropna()"
   ]
  },
  {
   "cell_type": "code",
   "execution_count": 11,
   "id": "eaa22fb8-b9c0-440c-8d74-02b1737f097f",
   "metadata": {},
   "outputs": [],
   "source": [
    "from pyspark.sql.functions import col, regexp_replace, sum, count, max, avg\n",
    "from pyspark.sql.types import IntegerType\n",
    "# Remove non-numeric characters using regular expression\n",
    "amz_sales_cdata = (amz_sales_cdata.withColumn(\"rating_count\", regexp_replace(col(\"rating_count\"), \"[^0-9.]\", \"\"))\n",
    "                                .withColumn(\"discounted_price\", regexp_replace(col(\"discounted_price\"), \"[^0-9.]\", \"\"))\n",
    "                                .withColumn(\"actual_price\", regexp_replace(col(\"actual_price\"), \"[^0-9.]\", \"\"))\n",
    "                                .withColumn(\"discount_percentage\", regexp_replace(col(\"discount_percentage\"), \"[^0-9.]\", \"\"))\n",
    "                                .withColumn(\"rating\", regexp_replace(col(\"rating\"), \"[^0-9.]\", \"\")))\n",
    "\n",
    "\n",
    "# Convert the column to Double & IntegerType\n",
    "amz_sales_cdata = (amz_sales_cdata.withColumn(\"discounted_price\", col(\"discounted_price\").cast(\"double\"))\n",
    "                                .withColumn(\"actual_price\", col(\"actual_price\").cast(\"double\"))\n",
    "                                .withColumn(\"discount_percentage\", col(\"discount_percentage\").cast(\"double\"))\n",
    "                                .withColumn(\"rating\", col(\"rating\").cast(\"double\"))\n",
    "                                .withColumn(\"rating_count\", col(\"rating_count\").cast(\"integer\")))\n",
    "                                \n",
    "# Handling missing values \n",
    "amz_sales_cdata = amz_sales_cdata.fillna(value=0, subset=[\"discounted_price\", \"actual_price\",\n",
    "                           \"discount_percentage\", \"rating\", \"rating_count\"])\n"
   ]
  },
  {
   "cell_type": "code",
   "execution_count": 12,
   "id": "d09fb8ed-5aac-4207-bd86-c85fb4b1355d",
   "metadata": {},
   "outputs": [],
   "source": [
    "from pyspark.sql.functions import col, mean, stddev, count, desc, format_number, corr, length, rand\n",
    "from pyspark.sql import functions as F"
   ]
  },
  {
   "cell_type": "code",
   "execution_count": 13,
   "id": "259e4950-b47e-4cdd-99ea-fc159d182bab",
   "metadata": {},
   "outputs": [
    {
     "name": "stdout",
     "output_type": "stream",
     "text": [
      "Actual price statistics:\n",
      "+-----------------+-------------------+-------------------+\n",
      "|mean_actual_price|median_actual_price|stddev_actual_price|\n",
      "+-----------------+-------------------+-------------------+\n",
      "|         5,961.18|           1,499.00|          17,488.41|\n",
      "+-----------------+-------------------+-------------------+\n",
      "\n",
      "Discounted price statistics:\n",
      "+---------------------+-----------------------+-----------------------+\n",
      "|mean_discounted_price|median_discounted_price|stddev_discounted_price|\n",
      "+---------------------+-----------------------+-----------------------+\n",
      "|             9,648.33|                 699.00|             125,691.38|\n",
      "+---------------------+-----------------------+-----------------------+\n",
      "\n",
      "Discount percentage statistics:\n",
      "+------------------------+--------------------------+--------------------------+\n",
      "|mean_discount_percentage|median_discount_percentage|stddev_discount_percentage|\n",
      "+------------------------+--------------------------+--------------------------+\n",
      "|                   97.39|                     48.00|                  1,578.64|\n",
      "+------------------------+--------------------------+--------------------------+\n",
      "\n",
      "Rating statistics:\n",
      "+-----------+-------------+-------------+\n",
      "|mean_rating|median_rating|stddev_rating|\n",
      "+-----------+-------------+-------------+\n",
      "|   2,317.90|         4.10|    86,667.77|\n",
      "+-----------+-------------+-------------+\n",
      "\n",
      "Rating count statistics:\n",
      "+-----------------+-------------------+-------------------+\n",
      "|mean_rating_count|median_rating_count|stddev_rating_count|\n",
      "+-----------------+-------------------+-------------------+\n",
      "|        17,835.06|           4,703.00|          42,818.52|\n",
      "+-----------------+-------------------+-------------------+\n",
      "\n"
     ]
    }
   ],
   "source": [
    "#Actual price statistics\n",
    "print(\"Actual price statistics:\")\n",
    "actual_price_stats = amz_sales_cdata.select(\n",
    "    format_number(mean('actual_price'),2).alias('mean_actual_price'),\n",
    "    format_number(F.expr('percentile_approx(actual_price, 0.5)'),2).alias('median_actual_price'),\n",
    "    format_number(stddev('actual_price'),2).alias('stddev_actual_price'))\n",
    "actual_price_stats.show()\n",
    "\n",
    "#Discounted price statistics \n",
    "print(\"Discounted price statistics:\")\n",
    "discounted_price_stats = amz_sales_cdata.select(\n",
    "    format_number(mean('discounted_price'),2).alias('mean_discounted_price'),\n",
    "    format_number(F.expr('percentile_approx(discounted_price, 0.5)'),2).alias('median_discounted_price'),\n",
    "    format_number(stddev('discounted_price'),2).alias('stddev_discounted_price'))\n",
    "discounted_price_stats.show()\n",
    "\n",
    "#Discount percentage statistics\n",
    "print(\"Discount percentage statistics:\")\n",
    "discount_percentage_stats = amz_sales_cdata.select(\n",
    "    format_number(mean('discount_percentage'),2).alias('mean_discount_percentage'),\n",
    "    format_number(F.expr('percentile_approx(discount_percentage, 0.5)'),2).alias('median_discount_percentage'),\n",
    "    format_number(stddev('discount_percentage'),2).alias('stddev_discount_percentage'))\n",
    "discount_percentage_stats.show()\n",
    "\n",
    "#Rating statistics\n",
    "print(\"Rating statistics:\")\n",
    "rating_stats = amz_sales_cdata.select(\n",
    "    format_number(mean('rating'),2).alias('mean_rating'),\n",
    "    format_number(F.expr('percentile_approx(rating, 0.5)'),2).alias('median_rating'),\n",
    "    format_number(stddev('rating'),2).alias('stddev_rating'))\n",
    "rating_stats.show()\n",
    "\n",
    "#Rating count statistics\n",
    "print(\"Rating count statistics:\")\n",
    "rating_count_stats = amz_sales_cdata.select(\n",
    "    format_number(mean('rating_count'),2).alias('mean_rating_count'),\n",
    "    format_number(F.expr('percentile_approx(rating_count, 0.5)'),2).alias('median_rating_count'),\n",
    "    format_number(stddev('rating_count'),2).alias('stddev_rating_count'))\n",
    "rating_count_stats.show()"
   ]
  },
  {
   "cell_type": "markdown",
   "id": "97179af7-ab8d-4aec-8b61-cf52dc91a122",
   "metadata": {},
   "source": [
    "#### Distribution of products under each catagory"
   ]
  },
  {
   "cell_type": "code",
   "execution_count": 14,
   "id": "d9b84ce3-beeb-4bb4-a3eb-4dec74c07b21",
   "metadata": {},
   "outputs": [
    {
     "name": "stdout",
     "output_type": "stream",
     "text": [
      "Category count: 243\n",
      "Product count: 1351\n",
      "+-----------------------------------------------------------------------------------------------------+-------------+\n",
      "|category                                                                                             |product_count|\n",
      "+-----------------------------------------------------------------------------------------------------+-------------+\n",
      "|Computers&Accessories|Accessories&Peripherals|Cables&Accessories|Cables|USBCables                    |233          |\n",
      "|Electronics|Mobiles&Accessories|Smartphones&BasicMobiles|Smartphones                                 |68           |\n",
      "|Electronics|HomeTheater,TV&Video|Televisions|SmartTelevisions                                        |63           |\n",
      "|Electronics|Headphones,Earbuds&Accessories|Headphones|In-Ear                                         |52           |\n",
      "|Electronics|HomeTheater,TV&Video|Accessories|RemoteControls                                          |49           |\n",
      "|Electronics|WearableTechnology|SmartWatches                                                          |31           |\n",
      "|Home&Kitchen|Kitchen&HomeAppliances|SmallKitchenAppliances|MixerGrinders                             |27           |\n",
      "|Computers&Accessories|Accessories&Peripherals|Keyboards,Mice&InputDevices|Mice                       |24           |\n",
      "|Home&Kitchen|Kitchen&HomeAppliances|Vacuum,Cleaning&Ironing|Irons,Steamers&Accessories|Irons|DryIrons|24           |\n",
      "|Electronics|HomeTheater,TV&Video|Accessories|Cables|HDMICables                                       |24           |\n",
      "|Home&Kitchen|Heating,Cooling&AirQuality|WaterHeaters&Geysers|InstantWaterHeaters                     |23           |\n",
      "|Home&Kitchen|Kitchen&HomeAppliances|Vacuum,Cleaning&Ironing|Irons,Steamers&Accessories|LintShavers   |22           |\n",
      "|Home&Kitchen|Heating,Cooling&AirQuality|RoomHeaters|ElectricHeaters                                  |20           |\n",
      "|Home&Kitchen|Heating,Cooling&AirQuality|RoomHeaters|FanHeaters                                       |20           |\n",
      "|Home&Kitchen|Kitchen&HomeAppliances|SmallKitchenAppliances|HandBlenders                              |19           |\n",
      "|Home&Kitchen|Kitchen&HomeAppliances|SmallKitchenAppliances|Kettles&HotWaterDispensers|ElectricKettles|19           |\n",
      "|Computers&Accessories|NetworkingDevices|NetworkAdapters|WirelessUSBAdapters                          |17           |\n",
      "|Electronics|Mobiles&Accessories|MobileAccessories|Chargers|WallChargers                              |16           |\n",
      "|Computers&Accessories|Accessories&Peripherals|LaptopAccessories|Lapdesks                             |14           |\n",
      "|Electronics|Accessories|MemoryCards|MicroSD                                                          |13           |\n",
      "+-----------------------------------------------------------------------------------------------------+-------------+\n",
      "only showing top 20 rows\n",
      "\n"
     ]
    }
   ],
   "source": [
    "category_count = amz_sales_cdata.select(\"category\").distinct().count()\n",
    "product_count = amz_sales_cdata.select(\"product_id\").distinct().count()\n",
    "print(\"Category count:\",category_count)\n",
    "print(\"Product count:\",product_count)\n",
    "\n",
    "category_distribution = (amz_sales_cdata.groupBy(\"category\")\n",
    "                                        .agg(count(\"product_id\").alias(\"product_count\"))\n",
    "                                        .orderBy(desc(\"product_count\")))\n",
    "category_distribution.show(truncate=False)"
   ]
  },
  {
   "cell_type": "code",
   "execution_count": 15,
   "id": "42c40097-00d4-4896-82ef-8dd9d1f556c1",
   "metadata": {},
   "outputs": [
    {
     "name": "stdout",
     "output_type": "stream",
     "text": [
      "Product with Highest Discounted Price:-\n",
      "Product Name: Fire-Boltt Phoenix Smart Watch with Bluetooth Calling 1.3\"\n",
      "Discounted Price: 2402402.0\n",
      "------------------------------------------------------------------------------------------------------------------\n",
      "Product with lowest Discounted Price:-\n",
      "Product Name: \"3M Post-it Sticky Note Cube, 200 Sheets (4 Colors x 50 Sheets) | 3\"\" x 3\"\" Size | For notes\n",
      "Discounted Price: 0.0\n"
     ]
    }
   ],
   "source": [
    "highest_discounted_price = amz_sales_cdata.select(\"product_name\", \"discounted_price\").orderBy(col(\"discounted_price\").desc()).first()\n",
    "lowest_discounted_price = amz_sales_cdata.select(\"product_name\", \"discounted_price\").orderBy(col(\"discounted_price\").asc()).first()\n",
    "\n",
    "\n",
    "print(\"Product with Highest Discounted Price:-\")\n",
    "print(f\"Product Name: {highest_discounted_price.product_name}\")\n",
    "print(f\"Discounted Price: {highest_discounted_price.discounted_price}\")\n",
    "print(\"------------------------------------------------------------------------------------------------------------------\")\n",
    "print(\"Product with lowest Discounted Price:-\")\n",
    "print(f\"Product Name: {lowest_discounted_price.product_name}\")\n",
    "print(f\"Discounted Price: {lowest_discounted_price.discounted_price}\")\n"
   ]
  },
  {
   "cell_type": "code",
   "execution_count": 16,
   "id": "91baaa44-85df-478f-a4d1-a21fac9ded6f",
   "metadata": {},
   "outputs": [
    {
     "name": "stdout",
     "output_type": "stream",
     "text": [
      "+--------------------+----------------+\n",
      "|            category|avg_discount_pct|\n",
      "+--------------------+----------------+\n",
      "|         81X800LGIN\"|         59890.0|\n",
      "|                  PC|          6490.0|\n",
      "| IPX7 & TWS Featu...|          2490.0|\n",
      "|              Black\"|          1499.0|\n",
      "|       Sp02 Tracking|          1499.0|\n",
      "|            Dial Pad|          1002.0|\n",
      "| Fully-Functional...|           500.0|\n",
      "| Erasable Reusabl...|           354.0|\n",
      "| Voice Assistant ...|           247.0|\n",
      "| Bluetooth Callin...|           150.0|\n",
      "|Electronics|Headp...|            90.0|\n",
      "|Computers&Accesso...|            90.0|\n",
      "|Electronics|Mobil...|            90.0|\n",
      "|Electronics|Headp...|            88.0|\n",
      "|Computers&Accesso...|            87.5|\n",
      "|Electronics|Mobil...|            82.0|\n",
      "|Computers&Accesso...|            80.0|\n",
      "|Computers&Accesso...|            78.5|\n",
      "|Computers&Accesso...|            78.0|\n",
      "|Electronics|Mobil...|            76.4|\n",
      "+--------------------+----------------+\n",
      "only showing top 20 rows\n",
      "\n"
     ]
    }
   ],
   "source": [
    "\n",
    "avg_discount_pct = (amz_sales_cdata.groupBy(\"category\")\n",
    "                                    .agg(avg(\"discount_percentage\").alias(\"avg_discount_pct\"))\n",
    "                                    .orderBy(col(\"avg_discount_pct\").desc()))\n",
    "avg_discount_pct.show()                    "
   ]
  },
  {
   "cell_type": "markdown",
   "id": "efa6873d-955f-4037-960b-9152a3875558",
   "metadata": {},
   "source": [
    "#### correlation btw 'discounted_price' and 'rating'"
   ]
  },
  {
   "cell_type": "code",
   "execution_count": 17,
   "id": "8e80454d-8034-4bf6-8df3-2434e73ce171",
   "metadata": {},
   "outputs": [
    {
     "name": "stdout",
     "output_type": "stream",
     "text": [
      "-0.0008382036764974348 & -0.008129490769260716\n"
     ]
    }
   ],
   "source": [
    "corr_dsprice_rating = amz_sales_cdata.stat.corr(\"discounted_price\", \"rating\")\n",
    "corr_dsprice_price = amz_sales_cdata.stat.corr(\"actual_price\", \"rating\")\n",
    "print(corr_dsprice_rating, \"&\", corr_dsprice_price)"
   ]
  },
  {
   "cell_type": "code",
   "execution_count": 18,
   "id": "c8e69d29-4eee-4fa1-9e32-0aba455aa3d2",
   "metadata": {},
   "outputs": [
    {
     "name": "stdout",
     "output_type": "stream",
     "text": [
      "+--------------------+--------------------+-------------+\n",
      "|             user_id|           user_name|no_of_reviews|\n",
      "+--------------------+--------------------+-------------+\n",
      "|AHIKJUDTVJ4T6DV6I...|$@|\\|TO$|-|,Sethu...|           10|\n",
      "|AGAELRYPMTG5SADZP...|Satheesh Kadiam,P...|            8|\n",
      "|AG3D6O4STAQKAY2UV...|Manav,Adarsh gupt...|            8|\n",
      "|AECPFYFQVRUWC3KGN...|ArdKn,Nirbhay kum...|            7|\n",
      "|AEWAZDZZJLQUYVOVG...|Omkar dhale,JD,HE...|            7|\n",
      "|AG44HJB2AMIVHAGQZ...|Prashant,Sumesh S...|            6|\n",
      "|AHWRZWPCTG6ICA7WT...|siddharth patnaik...|            6|\n",
      "|AFSMISGEYDYIP3Z42...|Ayush,ROHIT A.,Ke...|            5|\n",
      "|                 4.2|              13,937|            5|\n",
      "|AHPYDFW6Y3FIQGD2R...|AV,Mathan kumar,A...|            5|\n",
      "+--------------------+--------------------+-------------+\n",
      "\n"
     ]
    }
   ],
   "source": [
    "t10users_highest_reviews = (amz_sales_cdata.groupBy(\"user_id\", \"user_name\")\n",
    "                                        .agg(count(\"user_id\").alias(\"no_of_reviews\"))\n",
    "                                        .orderBy(col(\"no_of_reviews\").desc())\n",
    "                                        .limit(10)\n",
    "                        )\n",
    "t10users_highest_reviews.show()"
   ]
  },
  {
   "cell_type": "code",
   "execution_count": 19,
   "id": "f507096b-f7a3-4f25-8d8b-77570e2ed7bb",
   "metadata": {},
   "outputs": [
    {
     "name": "stdout",
     "output_type": "stream",
     "text": [
      "+--------------------+------------------+------------+\n",
      "|             user_id|        avg_rating|review_count|\n",
      "+--------------------+------------------+------------+\n",
      "|AGHT3K4KSG5MAQUSX...|               2.0|           1|\n",
      "|AE35OI7LDTOKU32IF...|               3.9|           1|\n",
      "|AHFT3PEI64SYXMAXB...|               3.7|           1|\n",
      "|AGOQZTWW4TWCEF63H...|               4.0|           1|\n",
      "|AEKLQGYWRYPMVY7BP...|               4.3|           1|\n",
      "|AF7KVNWBD7JWYLKGK...|               3.6|           1|\n",
      "|AEAJ3Z2IULDDDQC7K...|               4.1|           1|\n",
      "|AHXSYSLVVATNHR4SW...|               4.1|           1|\n",
      "|AF2JQCLSCY3QJATWU...|               4.0|           1|\n",
      "|AEITVIFC7WZAEQDIV...|               4.2|           3|\n",
      "|AFBHLRTSYYAZ2IGMV...|               4.1|           1|\n",
      "|AHS4CWP5EVS55YZCJ...|               3.8|           1|\n",
      "|AHCZZTKJ5WN7WJSQU...|               3.5|           1|\n",
      "| effortlessly.|Wa...|              4.15|           4|\n",
      "|AG2REE6BFNII6CHJQ...|               4.3|           1|\n",
      "|AHWRZWPCTG6ICA7WT...|4.1000000000000005|           6|\n",
      "|AGNRGEU74CPJRWEMJ...|               4.1|           1|\n",
      "|AFE4ZYVJSLM3MSXZH...|               4.1|           1|\n",
      "|AF6LRVDRKYWPTZXZL...|               2.9|           1|\n",
      "|AHPBU5B6HIJJUIPIX...|               4.4|           1|\n",
      "+--------------------+------------------+------------+\n",
      "only showing top 20 rows\n",
      "\n"
     ]
    }
   ],
   "source": [
    "amz_sales_cdata.groupBy(\"user_id\").agg(mean(\"rating\").alias(\"avg_rating\"),count(\"review_id\").alias(\"review_count\")).show()"
   ]
  },
  {
   "cell_type": "code",
   "execution_count": 20,
   "id": "b34385d7-b877-4fcd-af95-24ccdcd4f613",
   "metadata": {},
   "outputs": [
    {
     "name": "stdout",
     "output_type": "stream",
     "text": [
      "Most popular rating: 4.1\n",
      "+------+-----+\n",
      "|rating|count|\n",
      "+------+-----+\n",
      "|   4.1|  233|\n",
      "|   4.2|  219|\n",
      "|   4.3|  217|\n",
      "|   4.0|  170|\n",
      "|   4.4|  118|\n",
      "+------+-----+\n",
      "\n"
     ]
    }
   ],
   "source": [
    "ratings = amz_sales_cdata.groupBy(\"rating\").agg(count(\"rating\").alias(\"count\")).orderBy(col(\"count\").desc()).limit(5)\n",
    "popular_rating = ratings.orderBy(desc(\"count\")).first()\n",
    "\n",
    "print(f\"Most popular rating: {popular_rating.rating}\")\n",
    "ratings.show()"
   ]
  },
  {
   "cell_type": "code",
   "execution_count": 21,
   "id": "99e82120-641e-4d33-8a09-e5e93363b79f",
   "metadata": {},
   "outputs": [
    {
     "name": "stdout",
     "output_type": "stream",
     "text": [
      "TOP 10 products with high ratings: \n",
      "+----------+--------------------+---------+\n",
      "|product_id|        product_name|   rating|\n",
      "+----------+--------------------+---------+\n",
      "|B088Z1YWBC|\"EGate i9 Pro-Max...|3310432.0|\n",
      "|B09YV463SW|\"Fire-Boltt Ninja...|   9999.0|\n",
      "|B0BLV1GNLN|\"WZATCO Pixel | P...|   9990.0|\n",
      "|B09YV42QHZ|\"Fire-Boltt Ninja...|   7999.0|\n",
      "|B0B3N7LR6K|\"Fire-Boltt Visio...|   3999.0|\n",
      "|B0B3NDPCS9|\"Fire-Boltt Visio...|   3999.0|\n",
      "|B09NC2TY11|\"Noise ColorFit U...|   2499.0|\n",
      "|B0B3RSDSZ3|Fire-Boltt Phoeni...|   1999.0|\n",
      "|B0B3RS9DNF|Fire-Boltt Phoeni...|   1999.0|\n",
      "|B0B3RRWSF6|Fire-Boltt Phoeni...|   1998.0|\n",
      "+----------+--------------------+---------+\n",
      "\n"
     ]
    }
   ],
   "source": [
    "print(f\"TOP 10 products with high ratings: \")\n",
    "highest_product_rating = (amz_sales_cdata\n",
    "                          .groupBy(\"product_id\", \"product_name\")\n",
    "                          .agg(max(\"rating\").alias(\"rating\"))\n",
    "                          .orderBy(col(\"rating\").desc())\n",
    "                          .limit(10)\n",
    "                          .show()\n",
    "                         )\n"
   ]
  },
  {
   "cell_type": "code",
   "execution_count": 22,
   "id": "b90783a6-2871-4384-9e82-72679572c6f7",
   "metadata": {},
   "outputs": [
    {
     "name": "stdout",
     "output_type": "stream",
     "text": [
      " Most famous product: Amazon Basics High-Speed HDMI Cable, 6 Feet (2-Pack),Black\n"
     ]
    }
   ],
   "source": [
    "famous_product = amz_sales_cdata.select(\"product_name\", \"rating_count\").orderBy(col(\"rating_count\").desc()).first()\n",
    "print(f\" Most famous product: {famous_product.product_name}\")"
   ]
  },
  {
   "cell_type": "code",
   "execution_count": 23,
   "id": "24fbf574-fbef-4080-8bfb-afc23f7b4977",
   "metadata": {},
   "outputs": [
    {
     "name": "stdout",
     "output_type": "stream",
     "text": [
      "+--------------------+------------+\n",
      "|        product_name|rating_count|\n",
      "+--------------------+------------+\n",
      "|Amazon Basics Hig...|      426973|\n",
      "|AmazonBasics Flex...|      426973|\n",
      "|Amazon Basics Hig...|      426973|\n",
      "|AmazonBasics Flex...|      426972|\n",
      "|boAt Bassheads 10...|      363713|\n",
      "|boAt Bassheads 10...|      363713|\n",
      "|boAt BassHeads 10...|      363711|\n",
      "|Redmi 9A Sport (C...|      313836|\n",
      "|Redmi 9 Activ (Ca...|      313836|\n",
      "|Redmi 9A Sport (C...|      313832|\n",
      "|Redmi 9A Sport (C...|      313832|\n",
      "|boAt Bassheads 22...|      273189|\n",
      "|Pigeon Polypropyl...|      270563|\n",
      "|SanDisk Cruzer Bl...|      253105|\n",
      "|SanDisk Extreme S...|      205052|\n",
      "|JBL C100SI Wired ...|      192590|\n",
      "|JBL C100SI Wired ...|      192589|\n",
      "|JBL C100SI Wired ...|      192587|\n",
      "|SanDisk Ultra Dua...|      189104|\n",
      "|boAt Airdopes 121...|      180998|\n",
      "+--------------------+------------+\n",
      "only showing top 20 rows\n",
      "\n"
     ]
    }
   ],
   "source": [
    "famous_products = (amz_sales_cdata.select(\"product_name\", \"rating_count\").orderBy(col(\"rating_count\").desc()))\n",
    "famous_products.show()"
   ]
  },
  {
   "cell_type": "code",
   "execution_count": 24,
   "id": "e7650013-25ce-45f9-995a-5bc5b825f88e",
   "metadata": {},
   "outputs": [],
   "source": [
    "link_analysis = amz_sales_cdata.select('product_link', 'rating') \\\n",
    "    .withColumn('link_length', length('product_link'))"
   ]
  },
  {
   "cell_type": "code",
   "execution_count": 25,
   "id": "bd8f52ed-44c0-467d-a76f-167dfb0bcc87",
   "metadata": {},
   "outputs": [
    {
     "name": "stdout",
     "output_type": "stream",
     "text": [
      "+-----------+------------------+\n",
      "|link_length|        avg_rating|\n",
      "+-----------+------------------+\n",
      "|          5| 4.033333333333333|\n",
      "|          8|               4.4|\n",
      "|          9|3.9499999999999997|\n",
      "|         10|               4.3|\n",
      "|         11|               3.9|\n",
      "|         13|              3.15|\n",
      "|         16| 4.233333333333333|\n",
      "|         17|               4.0|\n",
      "|         18|               4.8|\n",
      "|         19|            1998.5|\n",
      "|         20|               4.2|\n",
      "|         24|               3.5|\n",
      "|         25|               3.8|\n",
      "|         26|               4.1|\n",
      "|         27|               4.5|\n",
      "|         28|             687.0|\n",
      "|         30|               4.0|\n",
      "|         33|               3.8|\n",
      "|         35|               4.0|\n",
      "|         41|               4.1|\n",
      "+-----------+------------------+\n",
      "only showing top 20 rows\n",
      "\n"
     ]
    }
   ],
   "source": [
    "average_rating_by_link_length = (link_analysis.groupBy('link_length') \n",
    "                                                .agg(mean('rating').alias('avg_rating')) \n",
    "                                                .orderBy('link_length'))\n",
    "average_rating_by_link_length.show()"
   ]
  },
  {
   "cell_type": "code",
   "execution_count": 26,
   "id": "93df59c5-7ae1-4519-8520-88e7524a0ccc",
   "metadata": {},
   "outputs": [
    {
     "name": "stdout",
     "output_type": "stream",
     "text": [
      "+----------+--------------------+--------------------+----------------+------------+-------------------+------+------------+--------------------+--------------------+--------------------+--------------------+--------------------+---------------------+--------------------+--------------------+-----------+\n",
      "|product_id|        product_name|            category|discounted_price|actual_price|discount_percentage|rating|rating_count|       about_product|             user_id|           user_name|           review_id|        review_title|       review_content|            img_link|        product_link|rating_type|\n",
      "+----------+--------------------+--------------------+----------------+------------+-------------------+------+------------+--------------------+--------------------+--------------------+--------------------+--------------------+---------------------+--------------------+--------------------+-----------+\n",
      "|B09RX1FK54|boAt Type C A750 ...|Computers&Accesso...|           399.0|       999.0|               60.0|   4.1|        1780|The boAt Type C A...|AFJVYK4FXVGRSTSLG...|livin sebi,Anand ...|RMEKYV7XWTWKV,R1P...|Better..!!,Chargi...| Yeap this cable s...|https://m.media-a...|https://www.amazo...|   positive|\n",
      "|B097JVLW3L|Irusu Play VR Plu...|Electronics|HomeT...|          2699.0|      3500.0|               23.0|   3.5|         621|✔️40MM HD optical...|AF3KXMJ35ELNULRGL...|Wasim Mulla,PrItH...|R2RS5DJTMPR9KH,R3...|Really great devi...| The product is ov...|https://m.media-a...|https://www.amazo...|    neutral|\n",
      "|B098NS6PVG|Ambrane Unbreakab...|Computers&Accesso...|           199.0|       349.0|               43.0|   4.0|       43993|Compatible with a...|AECPFYFQVRUWC3KGN...|ArdKn,Nirbhay kum...|RGIQEG07R9HS2,R1S...|A Good Braided Ca...| I ordered this ca...|https://m.media-a...|https://www.amazo...|   positive|\n",
      "|B09RFB2SJQ|10WeRun Id-116 Bl...|Electronics|Weara...|           499.0|      1899.0|               74.0|   4.1|         412|All-day activity ...|AHR4WZ6M4WXGQP65Z...|Richard,Venkatesa...|R31BGTIUFLQNT5,R1...|It's worth for mo...| It's good product...|https://m.media-a...|https://www.amazo...|   positive|\n",
      "|B01C8P29N0|Bajaj DX-6 1000W ...|Home&Kitchen|Kitc...|           625.0|      1400.0|               55.0|   4.2|       23316|R.D. & COMPANY Ma...|AEWW4RY2BE6FRKM6C...|Chittibabu M,Saga...|RN09522VLQZIP,RCX...|Worth the money.....| Light weight. Eas...|https://m.media-a...|https://www.amazo...|   positive|\n",
      "|B013B2WGT6|HealthSense Chef-...|Home&Kitchen|Kitc...|          1099.0|      1899.0|               42.0|   4.3|       15276|Multiple Units: T...|AE5LEWHQDGISBMSHQ...|Aditi,Minnaz Rehm...|R3W4R95XAZYMHH,R2...|Very light weight...| It has a option o...|https://m.media-a...|https://www.amazo...|   positive|\n",
      "|B00SH18114|Ikea 903.391.72 P...|Home&Kitchen|Kitc...|           160.0|       299.0|               46.0|   4.6|        2781|30 units|Perfect ...|AE7M7M6QTDYEHQKAK...|Dr.  Balasubraman...|R1NAAWWJ35RMQR,R3...|It is Okay.,Amazi...| It is Okay so far...|https://m.media-a...|https://www.amazo...|   positive|\n",
      "|B0B9F9PT8R|Eopora PTC Cerami...|Home&Kitchen|Heat...|          1529.0|      2999.0|               49.0|   3.3|          29|🔥PTC CERAMIC CHI...|AFK6D62HRZSHP5W3D...|alok tripathi,Ash...|RNFDIM9PF1C9U,R36...|Very beautiful he...| It is very beauti...|https://m.media-a...|https://www.amazo...|    neutral|\n",
      "|B08HDH26JX|boAt Deuce USB 30...|Computers&Accesso...|           299.0|       699.0|               57.0|   4.2|       94363|The boAt Deuce US...|AEWAZDZZJLQUYVOVG...|Omkar dhale,JD,HE...|R3EEUZKKK9J36I,R3...|Good product,Good...| Good product,long...|https://m.media-a...|https://www.amazo...|   positive|\n",
      "|B09VZBGL1N|STRIFF Multi Angl...|Electronics|Mobil...|            99.0|       499.0|               80.0|   4.1|        2451|[PORTABLE SIZE]- ...|AFAKLGJPBTX3EWCXJ...|Sean m.,Medha Gar...|R1SWNKZP36AU1J,R2...|Totally worth rs9...| Perfect for a 10 ...|https://m.media-a...|https://www.amazo...|   positive|\n",
      "|B0162K34H2|boAt LTG 500 Appl...|Computers&Accesso...|           849.0|       999.0|               15.0|   4.1|        6736|Compatible with A...|AHPAC3MT3XXV27WWU...|Aaditya,Ajinkya K...|R239FYUEOVD16B,R1...|Reliability,Best ...| Works smooth,The ...|https://m.media-a...|https://www.amazo...|   positive|\n",
      "|B01DEWVZ2C|JBL C100SI Wired ...|Electronics|Headp...|           599.0|       999.0|               40.0|   4.1|      192590|JBL Signature Sou...|AFE54I72EV2YOL6PO...|Sunny J.,Praveen ...|R2NB2K5XC70FKP,R3...|Good maybe okay,D...| The quality is no...|https://m.media-a...|https://www.amazo...|   positive|\n",
      "|B0B3RS9DNF|Fire-Boltt Phoeni...|   120+ Sports Modes|       2402402.0|        67.0|                0.0|1999.0|        9999|                 80%|                 4.3|              27,704|\"Fire-Boltt is In...| steps and much m...| party or date.|【...|            1 Manual|  1 Magnetic Charger|   positive|\n",
      "|B08GSQXLJ2|Crompton Arno Neo...|Home&Kitchen|Heat...|          6199.0|     10400.0|               40.0|   4.1|       14391|PRODUCT: Crompton...|AGNRGEU74CPJRWEMJ...|Ocean,JD,SHIVAM S...|RYZ8HY7V1JOX0,R15...|Product is good b...| Amazon delivery w...|https://m.media-a...|https://www.amazo...|   positive|\n",
      "|B00F159RIK|Bajaj DX-2 600W D...|Home&Kitchen|Kitc...|           499.0|       625.0|               20.0|   4.2|        5355|Non-stick coated ...|AE3DRCI3U5PRSINPY...|Deepak Kumar,Abhi...|R2GGV4P4HG0X8B,R5...|Good  product,Ok....| Nice product,Good...|https://m.media-a...|https://www.amazo...|   positive|\n",
      "|B08QW937WV|Homeistic Applien...|Home&Kitchen|Heat...|          1448.0|      2999.0|               52.0|   4.5|          19|Save time and ene...|AE57EASYAUGIY3LHB...|tarun,RITUPARNA B...|RXW65D85E5PT7,R26...|Good product,Very...| I like this produ...|https://m.media-a...|https://www.amazo...|   positive|\n",
      "|B0978V2CP6|Cubetek 3 in 1 LC...|Electronics|HomeT...|          1990.0|      3100.0|               36.0|   4.0|         897|3 IN 1 V5.0 BLUET...|AH2AV6EDMROMZAYJH...|meen rajan.,AV,Sr...|R1OK31HXJ4T85Y,R3...|Good,Does the job...| Atlast  I connect...|https://m.media-a...|https://www.amazo...|   positive|\n",
      "|B09XB7DPW1|Redmi 10A (Sea Bl...|Electronics|Mobil...|          8999.0|     11999.0|               25.0|   4.0|       12796|Camera: 13MP Rear...|AFIJZPIDNQJFJUO46...|Mahantesh,Gaurav ...|R98JKKNCSM7B5,R38...|Good.,Best at the...| Camera and displa...|https://m.media-a...|https://www.amazo...|   positive|\n",
      "|B0B7DHSKS7|Nokia 8210 4G Vol...|Electronics|Mobil...|          3799.0|      5299.0|               28.0|   3.5|        1641|\"The classic Noki...|AHJTLVVBATTLS7X3L...|Shyam,Tom,Rajnees...|R3T70N2JGTAPV2,R1...|Good to use as a ...| \"Network receptio...| it turned out to...| it required inte...|    neutral|\n",
      "|B07KY3FNQP|boAt Bassheads 15...|Electronics|Headp...|           449.0|      1290.0|               65.0|   4.1|       91770|Break away from o...|AFYMFZN2MFKODDI25...|Sameer,Dwarakesh ...|RZ7BLWVBP91F3,R3V...|Mediocre,Best in ...| Recieved damaged ...|https://m.media-a...|https://www.amazo...|   positive|\n",
      "+----------+--------------------+--------------------+----------------+------------+-------------------+------+------------+--------------------+--------------------+--------------------+--------------------+--------------------+---------------------+--------------------+--------------------+-----------+\n",
      "only showing top 20 rows\n",
      "\n"
     ]
    }
   ],
   "source": [
    "rating_seg = (amz_sales_cdata.withColumn(\"rating_type\", \n",
    "                                         F.when(F.col(\"rating\") >= 4, \"positive\")\n",
    "                                         .when((col(\"rating\") >= 3) & (col(\"rating\") < 4), \"neutral\")\n",
    "                                         .otherwise(\"negative\"))\n",
    "             )\n",
    "rating_seg.show()\n"
   ]
  },
  {
   "cell_type": "code",
   "execution_count": 27,
   "id": "04b90016-beda-4a6c-befc-b268e499c681",
   "metadata": {},
   "outputs": [
    {
     "name": "stdout",
     "output_type": "stream",
     "text": [
      "+-----------+-----+\n",
      "|rating_type|count|\n",
      "+-----------+-----+\n",
      "|   positive| 1094|\n",
      "|    neutral|  337|\n",
      "|   negative|   28|\n",
      "+-----------+-----+\n",
      "\n"
     ]
    }
   ],
   "source": [
    "rating_seg.groupBy(\"rating_type\").count().show()"
   ]
  },
  {
   "cell_type": "code",
   "execution_count": 28,
   "id": "1d072d8f-7f06-42d9-835e-b4a245d052b4",
   "metadata": {},
   "outputs": [],
   "source": [
    "from pyspark.ml import Pipeline\n",
    "from pyspark.ml.feature import HashingTF, IDF, Tokenizer, StringIndexer, CountVectorizer, NGram, VectorAssembler, ChiSqSelector\n",
    "from pyspark.ml.classification import LogisticRegression\n",
    "from pyspark.ml.evaluation import MulticlassClassificationEvaluator\n",
    "from datetime import datetime"
   ]
  },
  {
   "cell_type": "code",
   "execution_count": 29,
   "id": "de87c0e4-569b-4562-a8e3-7765c4c2e19a",
   "metadata": {},
   "outputs": [],
   "source": [
    "def build_trigrams(inputCol=[\"review_content\",\"rating_type\"], n=3):\n",
    "    \n",
    "    tokenizer = [Tokenizer(inputCol=\"review_content\", outputCol=\"words\")]\n",
    "    \n",
    "    ngrams = [\n",
    "        NGram(n=i, inputCol=\"words\", outputCol=\"{0}_grams\".format(i))\n",
    "        for i in range(1, n + 1)\n",
    "    ]\n",
    "\n",
    "    cv = [\n",
    "        CountVectorizer(vocabSize=2**14,inputCol=\"{0}_grams\".format(i),\n",
    "            outputCol=\"{0}_tf\".format(i))\n",
    "        for i in range(1, n + 1)\n",
    "    ]\n",
    "    \n",
    "    idf = [IDF(inputCol=\"{0}_tf\".format(i), outputCol=\"{0}_tfidf\".format(i), minDocFreq=5) for i in range(1, n + 1)]\n",
    "\n",
    "    assembler = [VectorAssembler(\n",
    "        inputCols=[\"{0}_tfidf\".format(i) for i in range(1, n + 1)],\n",
    "        outputCol=\"rawFeatures\"\n",
    "    )]\n",
    "    \n",
    "    label_stringIdx = [StringIndexer(inputCol = \"rating_type\", outputCol = \"label\")]\n",
    "    \n",
    "    selector = [ChiSqSelector(numTopFeatures=2**14,featuresCol='rawFeatures', outputCol=\"features\")]\n",
    "    \n",
    "    lr = [LogisticRegression()]\n",
    "    \n",
    "    return Pipeline(stages=tokenizer + ngrams + cv + idf + assembler + label_stringIdx + selector + lr)\n"
   ]
  },
  {
   "cell_type": "code",
   "execution_count": 36,
   "id": "7f3e6d1b-d9c8-4ab7-8369-0717933c2ed5",
   "metadata": {},
   "outputs": [],
   "source": [
    "(train_set, test_set) = rating_seg.randomSplit([0.80, 0.20], seed = 2000)"
   ]
  },
  {
   "cell_type": "code",
   "execution_count": 37,
   "id": "6e17f79f-bdc5-4964-997e-dbc1b2bf5996",
   "metadata": {},
   "outputs": [
    {
     "name": "stdout",
     "output_type": "stream",
     "text": [
      "total dataset: 1459\n",
      "Training dataset: 1148\n",
      "Test dataset: 311\n"
     ]
    }
   ],
   "source": [
    "print(f\"total dataset: {rating_seg.count()}\")\n",
    "print(f\"Training dataset: {train_set.count()}\")\n",
    "print(f\"Test dataset: {test_set.count()}\")"
   ]
  },
  {
   "cell_type": "code",
   "execution_count": 38,
   "id": "9ff971f5-bc06-4349-97c1-d56ee80a88b5",
   "metadata": {},
   "outputs": [
    {
     "name": "stdout",
     "output_type": "stream",
     "text": [
      "Training time: 0:00:15.601509\n",
      "Accuracy: 0.6655948553054662\n",
      "Precision: 0.7411423307757675\n",
      "Recall: 0.6655948553054662\n",
      "CPU times: user 72.2 ms, sys: 19.9 ms, total: 92.1 ms\n",
      "Wall time: 16.9 s\n"
     ]
    }
   ],
   "source": [
    "%%time\n",
    "evaluator = MulticlassClassificationEvaluator(predictionCol=\"prediction\")\n",
    "st = datetime.utcnow()\n",
    "pipelineFit = build_trigrams().fit(train_set)\n",
    "print('Training time:', datetime.utcnow() - st)\n",
    "predictions = pipelineFit.transform(test_set)\n",
    "accuracy = evaluator.evaluate(predictions, {evaluator.metricName: \"accuracy\"})\n",
    "precision = evaluator.evaluate(predictions, {evaluator.metricName: \"weightedPrecision\"})\n",
    "recall = evaluator.evaluate(predictions, {evaluator.metricName: \"weightedRecall\"})\n",
    "\n",
    "# Print the results\n",
    "print(\"Accuracy:\", accuracy)\n",
    "print(\"Precision:\", precision)\n",
    "print(\"Recall:\", recall)"
   ]
  },
  {
   "cell_type": "code",
   "execution_count": null,
   "id": "a1351575-4331-47f7-b2d6-fa68ed76084c",
   "metadata": {},
   "outputs": [],
   "source": []
  }
 ],
 "metadata": {
  "kernelspec": {
   "display_name": "Python 3 (ipykernel)",
   "language": "python",
   "name": "python3"
  },
  "language_info": {
   "codemirror_mode": {
    "name": "ipython",
    "version": 3
   },
   "file_extension": ".py",
   "mimetype": "text/x-python",
   "name": "python",
   "nbconvert_exporter": "python",
   "pygments_lexer": "ipython3",
   "version": "3.11.6"
  }
 },
 "nbformat": 4,
 "nbformat_minor": 5
}
